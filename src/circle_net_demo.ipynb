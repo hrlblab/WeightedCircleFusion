{
 "cells": [
  {
   "cell_type": "code",
   "execution_count": null,
   "metadata": {},
   "outputs": [],
   "source": [
    "!wget -O mini.sh https://repo.anaconda.com/miniconda/Miniconda3-py37_4.12.0-Linux-x86_64.sh\n",
    "!chmod +x mini.sh\n",
    "!bash ./mini.sh -b -f -p /usr/local\n",
    "!conda install -q -y jupyter\n",
    "!conda install -q -y google-colab -c conda-forge\n",
    "!python -m ipykernel install --name \"python3\" --user\n",
    "!python -V"
   ]
  },
  {
   "cell_type": "code",
   "execution_count": null,
   "metadata": {
    "colab": {
     "base_uri": "https://localhost:8080/"
    },
    "executionInfo": {
     "elapsed": 20585,
     "status": "ok",
     "timestamp": 1622711347504,
     "user": {
      "displayName": "Calvin Pang",
      "photoUrl": "https://lh3.googleusercontent.com/a-/AOh14Gjq7gHOpQwNhPFpmphSb582TO3eRzAe2LWanxCY=s64",
      "userId": "10508028720034560594"
     },
     "user_tz": -480
    },
    "id": "FQ5TnMGQGNUW",
    "outputId": "e634207f-f9ab-4194-afe2-c283438f0a86"
   },
   "outputs": [
    {
     "name": "stdout",
     "output_type": "stream",
     "text": [
      "Mounted at /content/drive\n"
     ]
    }
   ],
   "source": [
    "from google.colab import drive\n",
    "drive.mount(\"/content/drive\")"
   ]
  },
  {
   "cell_type": "code",
   "execution_count": null,
   "metadata": {
    "id": "ylHuhPqVEXx9"
   },
   "outputs": [],
   "source": [
    "#!sudo ln -sf /usr/local/lib/python3.7/dist-packages/ideep4py/lib/libmkldnn.so.0.14.0 /usr/local/lib/python3.7/dist-packages/ideep4py/lib/libmkldnn.so.0"
   ]
  },
  {
   "cell_type": "code",
   "execution_count": null,
   "metadata": {
    "colab": {
     "base_uri": "https://localhost:8080/"
    },
    "executionInfo": {
     "elapsed": 7238,
     "status": "ok",
     "timestamp": 1622711361887,
     "user": {
      "displayName": "Calvin Pang",
      "photoUrl": "https://lh3.googleusercontent.com/a-/AOh14Gjq7gHOpQwNhPFpmphSb582TO3eRzAe2LWanxCY=s64",
      "userId": "10508028720034560594"
     },
     "user_tz": -480
    },
    "id": "Mn3GVzWMO4CW",
    "outputId": "990efcbd-734b-4e1f-8609-9a7ab4d845b0"
   },
   "outputs": [
    {
     "name": "stdout",
     "output_type": "stream",
     "text": [
      "Reading package lists... Done\n",
      "Building dependency tree       \n",
      "Reading state information... Done\n",
      "The following NEW packages will be installed:\n",
      "  dialog\n",
      "0 upgraded, 1 newly installed, 0 to remove and 39 not upgraded.\n",
      "Need to get 217 kB of archives.\n",
      "After this operation, 1,149 kB of additional disk space will be used.\n",
      "Get:1 http://archive.ubuntu.com/ubuntu bionic/universe amd64 dialog amd64 1.3-20171209-1 [217 kB]\n",
      "Fetched 217 kB in 1s (241 kB/s)\n",
      "Selecting previously unselected package dialog.\n",
      "(Reading database ... 160772 files and directories currently installed.)\n",
      "Preparing to unpack .../dialog_1.3-20171209-1_amd64.deb ...\n",
      "Unpacking dialog (1.3-20171209-1) ...\n",
      "Setting up dialog (1.3-20171209-1) ...\n",
      "Processing triggers for man-db (2.8.3-2ubuntu0.1) ...\n"
     ]
    }
   ],
   "source": [
    "!apt-get install dialog"
   ]
  },
  {
   "cell_type": "code",
   "execution_count": null,
   "metadata": {},
   "outputs": [],
   "source": [
    "#!vim etc/apt/source.list\n",
    "#add `deb http://dk.archive.ubuntu.com/ubuntu/ bionic main universe` to file\\\n",
    "\n",
    "#If code fail, click file icon on the left side of the menu, select etc/apt/source.list,\n",
    "#add `deb http://dk.archive.ubuntu.com/ubuntu/ bionic main universe` in the file, and\n",
    "#save (command+S in Mac)"
   ]
  },
  {
   "cell_type": "code",
   "execution_count": null,
   "metadata": {},
   "outputs": [],
   "source": [
    "!sudo apt update"
   ]
  },
  {
   "cell_type": "code",
   "execution_count": null,
   "metadata": {
    "colab": {
     "base_uri": "https://localhost:8080/"
    },
    "executionInfo": {
     "elapsed": 22788,
     "status": "ok",
     "timestamp": 1622711413754,
     "user": {
      "displayName": "Calvin Pang",
      "photoUrl": "https://lh3.googleusercontent.com/a-/AOh14Gjq7gHOpQwNhPFpmphSb582TO3eRzAe2LWanxCY=s64",
      "userId": "10508028720034560594"
     },
     "user_tz": -480
    },
    "id": "UmC8tCKkRtam",
    "outputId": "c13be763-db49-49c1-dbbc-5ef8c4e55b3c"
   },
   "outputs": [
    {
     "name": "stdout",
     "output_type": "stream",
     "text": [
      "Reading package lists... Done\n",
      "Building dependency tree       \n",
      "Reading state information... Done\n",
      "The following packages were automatically installed and are no longer required:\n",
      "  cpp cpp-7 cuda-cuobjdump-10-0 cuda-cuobjdump-10-1 cuda-cuobjdump-11-0\n",
      "  cuda-gdb-10-0 cuda-gdb-10-1 cuda-gdb-11-0 cuda-gpu-library-advisor-10-0\n",
      "  cuda-gpu-library-advisor-10-1 cuda-libraries-10-0 cuda-libraries-10-1\n",
      "  cuda-memcheck-10-0 cuda-memcheck-10-1 cuda-memcheck-11-0 cuda-nsight-10-0\n",
      "  cuda-nsight-10-1 cuda-nsight-11-0 cuda-nsight-compute-10-0\n",
      "  cuda-nsight-compute-10-1 cuda-nsight-compute-11-0 cuda-nsight-systems-10-1\n",
      "  cuda-nsight-systems-11-0 cuda-nvdisasm-10-0 cuda-nvdisasm-10-1\n",
      "  cuda-nvdisasm-11-0 cuda-nvml-dev-10-0 cuda-nvml-dev-10-1 cuda-nvprof-10-0\n",
      "  cuda-nvprof-10-1 cuda-nvprune-10-0 cuda-nvprune-10-1 cuda-nvprune-11-0\n",
      "  cuda-nvtx-10-0 cuda-nvtx-10-1 cuda-nvvp-10-0 cuda-nvvp-10-1 cuda-nvvp-11-0\n",
      "  cuda-sanitizer-11-0 cuda-sanitizer-api-10-1 cuda-visual-tools-10-0\n",
      "  cuda-visual-tools-10-1 cuda-visual-tools-11-0 default-jre freeglut3\n",
      "  freeglut3-dev keyboard-configuration libargon2-0 libbz2-dev libcap2 libcc1-0\n",
      "  libcryptsetup12 libdevmapper1.02.1 libfontenc1 libgfortran-7-dev libidn11\n",
      "  libip4tc0 libisl19 libjansson4 libmpc3 libmpfr6 libnvidia-cfg1-465\n",
      "  libnvidia-common-465 libnvidia-decode-465 libnvidia-encode-465\n",
      "  libnvidia-extra-465 libnvidia-fbc1-465 libnvidia-gl-465 libnvidia-ifr1-465\n",
      "  libpam-systemd libpcre2-16-0 libpcre2-32-0 libpcre2-dev libpcre2-posix0\n",
      "  libpolkit-agent-1-0 libpolkit-backend-1-0 libpolkit-gobject-1-0\n",
      "  libreadline-dev libxfont2 libxi-dev libxkbfile1 libxmu-dev libxmu-headers\n",
      "  libxnvctrl0 libxtst6 nsight-compute-2021.1.1 nsight-systems-2020.3.2\n",
      "  nsight-systems-2021.1.3 nvidia-compute-utils-465 nvidia-kernel-common-465\n",
      "  nvidia-kernel-source-465 nvidia-modprobe nvidia-settings nvidia-utils-465\n",
      "  openjdk-11-jre policykit-1 policykit-1-gnome python3-xkit\n",
      "  screen-resolution-extra systemd systemd-sysv udev x11-xkb-utils\n",
      "  xserver-common xserver-xorg-core-hwe-18.04 xserver-xorg-video-nvidia-465\n",
      "Use 'sudo apt autoremove' to remove them.\n",
      "The following packages will be REMOVED:\n",
      "  build-essential cuda-10-0 cuda-10-1 cuda-11-0 cuda-command-line-tools-10-0\n",
      "  cuda-command-line-tools-10-1 cuda-command-line-tools-11-0 cuda-compiler-10-0\n",
      "  cuda-compiler-10-1 cuda-compiler-11-0 cuda-cupti-10-0 cuda-cupti-10-1\n",
      "  cuda-cupti-11-0 cuda-cupti-dev-11-0 cuda-demo-suite-10-0\n",
      "  cuda-demo-suite-10-1 cuda-demo-suite-11-0 cuda-documentation-10-0\n",
      "  cuda-documentation-10-1 cuda-documentation-11-0 cuda-drivers\n",
      "  cuda-drivers-465 cuda-minimal-build-11-0 cuda-nvcc-10-0 cuda-nvcc-10-1\n",
      "  cuda-nvcc-11-0 cuda-runtime-10-0 cuda-runtime-10-1 cuda-runtime-11-0\n",
      "  cuda-samples-10-0 cuda-samples-10-1 cuda-samples-11-0 cuda-toolkit-10-0\n",
      "  cuda-toolkit-10-1 cuda-toolkit-11-0 cuda-tools-10-0 cuda-tools-10-1\n",
      "  cuda-tools-11-0 dkms g++ g++-7 gcc gcc-7 gfortran gfortran-7 nvidia-dkms-465\n",
      "  nvidia-driver-465 r-base-dev\n",
      "0 upgraded, 0 newly installed, 48 to remove and 39 not upgraded.\n",
      "After this operation, 2,009 MB disk space will be freed.\n",
      "(Reading database ... 160930 files and directories currently installed.)\n",
      "Removing cuda-11-0 (11.0.3-1) ...\n",
      "Removing cuda-toolkit-11-0 (11.0.3-1) ...\n",
      "Removing cuda-documentation-11-0 (11.0.228-1) ...\n",
      "Removing cuda-samples-11-0 (11.0.221-1) ...\n",
      "Removing cuda-minimal-build-11-0 (11.0.3-1) ...\n",
      "Removing cuda-compiler-11-0 (11.0.3-1) ...\n",
      "Removing cuda-10-0 (10.0.130-1) ...\n",
      "Removing cuda-10-1 (10.1.243-1) ...\n",
      "Removing cuda-toolkit-10-0 (10.0.130-1) ...\n",
      "Removing cuda-tools-10-0 (10.0.130-1) ...\n",
      "Removing cuda-command-line-tools-10-0 (10.0.130-1) ...\n",
      "Removing cuda-toolkit-10-1 (10.1.243-1) ...\n",
      "Removing cuda-tools-10-1 (10.1.243-1) ...\n",
      "Removing cuda-command-line-tools-10-1 (10.1.243-1) ...\n",
      "Removing cuda-tools-11-0 (11.0.3-1) ...\n",
      "Removing cuda-command-line-tools-11-0 (11.0.3-1) ...\n",
      "Removing cuda-compiler-10-0 (10.0.130-1) ...\n",
      "Removing cuda-compiler-10-1 (10.1.243-1) ...\n",
      "Removing cuda-cupti-10-0 (10.0.130-1) ...\n",
      "Removing cuda-cupti-10-1 (10.1.243-1) ...\n",
      "Removing cuda-cupti-dev-11-0 (11.0.221-1) ...\n",
      "Removing cuda-cupti-11-0 (11.0.221-1) ...\n",
      "Removing cuda-demo-suite-10-0 (10.0.130-1) ...\n",
      "Removing cuda-demo-suite-10-1 (10.1.243-1) ...\n",
      "Removing cuda-demo-suite-11-0 (11.0.167-1) ...\n",
      "Removing cuda-documentation-10-0 (10.0.130-1) ...\n",
      "Removing cuda-documentation-10-1 (10.1.243-1) ...\n",
      "Removing cuda-runtime-11-0 (11.0.3-1) ...\n",
      "Removing cuda-runtime-10-1 (10.1.243-1) ...\n",
      "Removing cuda-samples-10-0 (10.0.130-1) ...\n",
      "Removing cuda-nvcc-10-0 (10.0.130-1) ...\n",
      "Removing cuda-samples-10-1 (10.1.243-1) ...\n",
      "Removing cuda-nvcc-10-1 (10.1.243-1) ...\n",
      "Removing cuda-runtime-10-0 (10.0.130-1) ...\n",
      "Removing r-base-dev (4.1.0-1.1804.0) ...\n",
      "Removing gfortran (4:7.4.0-1ubuntu2.3) ...\n",
      "Removing gfortran-7 (7.5.0-3ubuntu1~18.04) ...\n",
      "Removing cuda-nvcc-11-0 (11.0.221-1) ...\n",
      "Removing build-essential (12.4ubuntu1) ...\n",
      "Removing cuda-drivers (465.19.01-1) ...\n",
      "Removing cuda-drivers-465 (465.19.01-1) ...\n",
      "Removing nvidia-driver-465 (465.27-0ubuntu0.18.04.2) ...\n",
      "Removing nvidia-dkms-465 (465.27-0ubuntu0.18.04.2) ...\n",
      "Removing all DKMS Modules\n",
      "Done.\n",
      "Removing dkms (2.3-3ubuntu9.7) ...\n",
      "Removing g++ (4:7.4.0-1ubuntu2.3) ...\n",
      "update-alternatives: using /usr/bin/clang++ to provide /usr/bin/c++ (c++) in auto mode\n",
      "Removing g++-7 (7.5.0-3ubuntu1~18.04) ...\n",
      "Removing gcc (4:7.4.0-1ubuntu2.3) ...\n",
      "Removing gcc-7 (7.5.0-3ubuntu1~18.04) ...\n",
      "Processing triggers for man-db (2.8.3-2ubuntu0.1) ...\n",
      "Processing triggers for libc-bin (2.27-3ubuntu1.2) ...\n",
      "Reading package lists... Done\n",
      "Building dependency tree       \n",
      "Reading state information... Done\n",
      "The following packages were automatically installed and are no longer required:\n",
      "  cpp cpp-7 cuda-cuobjdump-10-0 cuda-cuobjdump-10-1 cuda-cuobjdump-11-0\n",
      "  cuda-gdb-10-0 cuda-gdb-10-1 cuda-gdb-11-0 cuda-gpu-library-advisor-10-0\n",
      "  cuda-gpu-library-advisor-10-1 cuda-libraries-10-0 cuda-libraries-10-1\n",
      "  cuda-memcheck-10-0 cuda-memcheck-10-1 cuda-memcheck-11-0 cuda-nsight-10-0\n",
      "  cuda-nsight-10-1 cuda-nsight-11-0 cuda-nsight-compute-10-0\n",
      "  cuda-nsight-compute-10-1 cuda-nsight-compute-11-0 cuda-nsight-systems-10-1\n",
      "  cuda-nsight-systems-11-0 cuda-nvdisasm-10-0 cuda-nvdisasm-10-1\n",
      "  cuda-nvdisasm-11-0 cuda-nvml-dev-10-0 cuda-nvml-dev-10-1 cuda-nvprof-10-0\n",
      "  cuda-nvprof-10-1 cuda-nvprune-10-0 cuda-nvprune-10-1 cuda-nvprune-11-0\n",
      "  cuda-nvtx-10-0 cuda-nvtx-10-1 cuda-nvvp-10-0 cuda-nvvp-10-1 cuda-nvvp-11-0\n",
      "  cuda-sanitizer-11-0 cuda-sanitizer-api-10-1 cuda-visual-tools-10-0\n",
      "  cuda-visual-tools-10-1 cuda-visual-tools-11-0 default-jre freeglut3\n",
      "  freeglut3-dev keyboard-configuration libargon2-0 libbz2-dev libcap2\n",
      "  libcryptsetup12 libdevmapper1.02.1 libfontenc1 libgfortran-7-dev libidn11\n",
      "  libip4tc0 libjansson4 libnvidia-cfg1-465 libnvidia-common-465\n",
      "  libnvidia-decode-465 libnvidia-encode-465 libnvidia-extra-465\n",
      "  libnvidia-fbc1-465 libnvidia-gl-465 libnvidia-ifr1-465 libpam-systemd\n",
      "  libpcre2-16-0 libpcre2-32-0 libpcre2-dev libpcre2-posix0 libpolkit-agent-1-0\n",
      "  libpolkit-backend-1-0 libpolkit-gobject-1-0 libreadline-dev libxfont2\n",
      "  libxi-dev libxkbfile1 libxmu-dev libxmu-headers libxnvctrl0 libxtst6\n",
      "  nsight-compute-2021.1.1 nsight-systems-2020.3.2 nsight-systems-2021.1.3\n",
      "  nvidia-compute-utils-465 nvidia-kernel-common-465 nvidia-kernel-source-465\n",
      "  nvidia-modprobe nvidia-settings nvidia-utils-465 openjdk-11-jre policykit-1\n",
      "  policykit-1-gnome python3-xkit screen-resolution-extra systemd systemd-sysv\n",
      "  udev x11-xkb-utils xserver-common xserver-xorg-core-hwe-18.04\n",
      "  xserver-xorg-video-nvidia-465\n",
      "Use 'sudo apt autoremove' to remove them.\n",
      "The following additional packages will be installed:\n",
      "  cpp-6 gcc-6-base libasan3 libgcc-6-dev libstdc++-6-dev\n",
      "Suggested packages:\n",
      "  gcc-6-locales g++-6-multilib gcc-6-doc libstdc++6-6-dbg gcc-6-multilib\n",
      "  libgcc1-dbg libgomp1-dbg libitm1-dbg libatomic1-dbg libasan3-dbg\n",
      "  liblsan0-dbg libtsan0-dbg libubsan0-dbg libcilkrts5-dbg libmpx2-dbg\n",
      "  libquadmath0-dbg libstdc++-6-doc\n",
      "The following NEW packages will be installed:\n",
      "  cpp-6 g++-6 gcc-6 gcc-6-base libasan3 libgcc-6-dev libstdc++-6-dev\n",
      "0 upgraded, 7 newly installed, 0 to remove and 39 not upgraded.\n",
      "Need to get 24.8 MB of archives.\n",
      "After this operation, 101 MB of additional disk space will be used.\n",
      "Get:1 http://archive.ubuntu.com/ubuntu bionic-updates/universe amd64 gcc-6-base amd64 6.5.0-2ubuntu1~18.04 [16.7 kB]\n",
      "Get:2 http://archive.ubuntu.com/ubuntu bionic-updates/universe amd64 cpp-6 amd64 6.5.0-2ubuntu1~18.04 [6,396 kB]\n",
      "Get:3 http://archive.ubuntu.com/ubuntu bionic-updates/universe amd64 libasan3 amd64 6.5.0-2ubuntu1~18.04 [313 kB]\n",
      "Get:4 http://archive.ubuntu.com/ubuntu bionic-updates/universe amd64 libgcc-6-dev amd64 6.5.0-2ubuntu1~18.04 [2,308 kB]\n",
      "Get:5 http://archive.ubuntu.com/ubuntu bionic-updates/universe amd64 gcc-6 amd64 6.5.0-2ubuntu1~18.04 [7,067 kB]\n",
      "Get:6 http://archive.ubuntu.com/ubuntu bionic-updates/universe amd64 libstdc++-6-dev amd64 6.5.0-2ubuntu1~18.04 [1,437 kB]\n",
      "Get:7 http://archive.ubuntu.com/ubuntu bionic-updates/universe amd64 g++-6 amd64 6.5.0-2ubuntu1~18.04 [7,213 kB]\n",
      "Fetched 24.8 MB in 2s (10.0 MB/s)\n",
      "dpkg-preconfigure: unable to re-open stdin: No such file or directory\n",
      "Selecting previously unselected package gcc-6-base:amd64.\n",
      "(Reading database ... 139047 files and directories currently installed.)\n",
      "Preparing to unpack .../0-gcc-6-base_6.5.0-2ubuntu1~18.04_amd64.deb ...\n",
      "Unpacking gcc-6-base:amd64 (6.5.0-2ubuntu1~18.04) ...\n",
      "Selecting previously unselected package cpp-6.\n",
      "Preparing to unpack .../1-cpp-6_6.5.0-2ubuntu1~18.04_amd64.deb ...\n",
      "Unpacking cpp-6 (6.5.0-2ubuntu1~18.04) ...\n",
      "Selecting previously unselected package libasan3:amd64.\n",
      "Preparing to unpack .../2-libasan3_6.5.0-2ubuntu1~18.04_amd64.deb ...\n",
      "Unpacking libasan3:amd64 (6.5.0-2ubuntu1~18.04) ...\n",
      "Selecting previously unselected package libgcc-6-dev:amd64.\n",
      "Preparing to unpack .../3-libgcc-6-dev_6.5.0-2ubuntu1~18.04_amd64.deb ...\n",
      "Unpacking libgcc-6-dev:amd64 (6.5.0-2ubuntu1~18.04) ...\n",
      "Selecting previously unselected package gcc-6.\n",
      "Preparing to unpack .../4-gcc-6_6.5.0-2ubuntu1~18.04_amd64.deb ...\n",
      "Unpacking gcc-6 (6.5.0-2ubuntu1~18.04) ...\n",
      "Selecting previously unselected package libstdc++-6-dev:amd64.\n",
      "Preparing to unpack .../5-libstdc++-6-dev_6.5.0-2ubuntu1~18.04_amd64.deb ...\n",
      "Unpacking libstdc++-6-dev:amd64 (6.5.0-2ubuntu1~18.04) ...\n",
      "Selecting previously unselected package g++-6.\n",
      "Preparing to unpack .../6-g++-6_6.5.0-2ubuntu1~18.04_amd64.deb ...\n",
      "Unpacking g++-6 (6.5.0-2ubuntu1~18.04) ...\n",
      "Setting up gcc-6-base:amd64 (6.5.0-2ubuntu1~18.04) ...\n",
      "Setting up cpp-6 (6.5.0-2ubuntu1~18.04) ...\n",
      "Setting up libasan3:amd64 (6.5.0-2ubuntu1~18.04) ...\n",
      "Setting up libgcc-6-dev:amd64 (6.5.0-2ubuntu1~18.04) ...\n",
      "Setting up libstdc++-6-dev:amd64 (6.5.0-2ubuntu1~18.04) ...\n",
      "Setting up gcc-6 (6.5.0-2ubuntu1~18.04) ...\n",
      "Setting up g++-6 (6.5.0-2ubuntu1~18.04) ...\n",
      "Processing triggers for man-db (2.8.3-2ubuntu0.1) ...\n",
      "Processing triggers for libc-bin (2.27-3ubuntu1.2) ...\n"
     ]
    }
   ],
   "source": [
    "#!sudo apt remove gcc gcc-7 g++ g++-7\n",
    "!sudo apt install gcc-6 g++-6"
   ]
  },
  {
   "cell_type": "code",
   "execution_count": null,
   "metadata": {
    "colab": {
     "base_uri": "https://localhost:8080/"
    },
    "executionInfo": {
     "elapsed": 234466,
     "status": "ok",
     "timestamp": 1622711650938,
     "user": {
      "displayName": "Calvin Pang",
      "photoUrl": "https://lh3.googleusercontent.com/a-/AOh14Gjq7gHOpQwNhPFpmphSb582TO3eRzAe2LWanxCY=s64",
      "userId": "10508028720034560594"
     },
     "user_tz": -480
    },
    "id": "6Fse5HfbyjCw",
    "outputId": "6091cd98-92f2-4f49-897d-0b177f6c1390"
   },
   "outputs": [
    {
     "name": "stdout",
     "output_type": "stream",
     "text": [
      "--2021-06-03 09:10:16--  https://developer.nvidia.com/compute/cuda/9.0/Prod/local_installers/cuda-repo-ubuntu1604-9-0-local_9.0.176-1_amd64-deb\n",
      "Resolving developer.nvidia.com (developer.nvidia.com)... 152.199.0.24\n",
      "Connecting to developer.nvidia.com (developer.nvidia.com)|152.199.0.24|:443... connected.\n",
      "HTTP request sent, awaiting response... 301 Moved Permanently\n",
      "Location: https://developer.nvidia.com/compute/cuda/9.0/prod/local_installers/cuda-repo-ubuntu1604-9-0-local_9.0.176-1_amd64-deb [following]\n",
      "--2021-06-03 09:10:16--  https://developer.nvidia.com/compute/cuda/9.0/prod/local_installers/cuda-repo-ubuntu1604-9-0-local_9.0.176-1_amd64-deb\n",
      "Reusing existing connection to developer.nvidia.com:443.\n",
      "HTTP request sent, awaiting response... 302 Found\n",
      "Location: https://developer.download.nvidia.com/compute/cuda/9.0/secure/Prod/local_installers/cuda-repo-ubuntu1604-9-0-local_9.0.176-1_amd64.deb?IQzfYF92smkdGBLGIhRHrcAFU_TVT6ARk1mwh0gV9EtxeM29n7GlBiqYonzHmGOkzFVfWPogOtvt0mtEXAlEygYDmt4Zn5WIGbV2FGXhlu4nY9Xqe7lNTr3z7_FykqqE9mnUnwjnvt0ap-6P6VxnIv_lABSX0roPgEQ7SjPJiqzQhTA90EUUmtbuofdgEJRUmS7o1buDXKB95fsld-3J [following]\n",
      "--2021-06-03 09:10:16--  https://developer.download.nvidia.com/compute/cuda/9.0/secure/Prod/local_installers/cuda-repo-ubuntu1604-9-0-local_9.0.176-1_amd64.deb?IQzfYF92smkdGBLGIhRHrcAFU_TVT6ARk1mwh0gV9EtxeM29n7GlBiqYonzHmGOkzFVfWPogOtvt0mtEXAlEygYDmt4Zn5WIGbV2FGXhlu4nY9Xqe7lNTr3z7_FykqqE9mnUnwjnvt0ap-6P6VxnIv_lABSX0roPgEQ7SjPJiqzQhTA90EUUmtbuofdgEJRUmS7o1buDXKB95fsld-3J\n",
      "Resolving developer.download.nvidia.com (developer.download.nvidia.com)... 152.195.19.142\n",
      "Connecting to developer.download.nvidia.com (developer.download.nvidia.com)|152.195.19.142|:443... connected.\n",
      "HTTP request sent, awaiting response... 200 OK\n",
      "Length: 1212738714 (1.1G) [application/x-deb]\n",
      "Saving to: ‘cuda-repo-ubuntu1604-9-0-local_9.0.176-1_amd64-deb’\n",
      "\n",
      "cuda-repo-ubuntu160 100%[===================>]   1.13G   157MB/s    in 7.5s    \n",
      "\n",
      "2021-06-03 09:10:24 (155 MB/s) - ‘cuda-repo-ubuntu1604-9-0-local_9.0.176-1_amd64-deb’ saved [1212738714/1212738714]\n",
      "\n",
      "Selecting previously unselected package cuda-repo-ubuntu1604-9-0-local.\n",
      "(Reading database ... 140074 files and directories currently installed.)\n",
      "Preparing to unpack cuda-repo-ubuntu1604-9-0-local_9.0.176-1_amd64-deb ...\n",
      "Unpacking cuda-repo-ubuntu1604-9-0-local (9.0.176-1) ...\n",
      "Setting up cuda-repo-ubuntu1604-9-0-local (9.0.176-1) ...\n",
      "OK\n",
      "Get:1 file:/var/cuda-repo-9-0-local  InRelease\n",
      "Ign:1 file:/var/cuda-repo-9-0-local  InRelease\n",
      "Get:2 file:/var/cuda-repo-9-0-local  Release [574 B]\n",
      "Get:2 file:/var/cuda-repo-9-0-local  Release [574 B]\n",
      "Get:3 file:/var/cuda-repo-9-0-local  Release.gpg [819 B]\n",
      "Get:3 file:/var/cuda-repo-9-0-local  Release.gpg [819 B]\n",
      "Get:4 https://cloud.r-project.org/bin/linux/ubuntu bionic-cran40/ InRelease [3,626 B]\n",
      "Ign:5 https://developer.download.nvidia.com/compute/cuda/repos/ubuntu1804/x86_64  InRelease\n",
      "Get:6 http://security.ubuntu.com/ubuntu bionic-security InRelease [88.7 kB]\n",
      "Ign:7 https://developer.download.nvidia.com/compute/machine-learning/repos/ubuntu1804/x86_64  InRelease\n",
      "Hit:8 https://developer.download.nvidia.com/compute/cuda/repos/ubuntu1804/x86_64  Release\n",
      "Get:9 file:/var/cuda-repo-9-0-local  Packages [15.4 kB]\n",
      "Hit:10 https://developer.download.nvidia.com/compute/machine-learning/repos/ubuntu1804/x86_64  Release\n",
      "Get:11 http://ppa.launchpad.net/c2d4u.team/c2d4u4.0+/ubuntu bionic InRelease [15.9 kB]\n",
      "Hit:12 http://archive.ubuntu.com/ubuntu bionic InRelease\n",
      "Get:13 http://archive.ubuntu.com/ubuntu bionic-updates InRelease [88.7 kB]\n",
      "Hit:16 http://ppa.launchpad.net/cran/libgit2/ubuntu bionic InRelease\n",
      "Get:17 http://archive.ubuntu.com/ubuntu bionic-backports InRelease [74.6 kB]\n",
      "Get:18 http://ppa.launchpad.net/deadsnakes/ppa/ubuntu bionic InRelease [15.9 kB]\n",
      "Get:19 http://security.ubuntu.com/ubuntu bionic-security/restricted amd64 Packages [424 kB]\n",
      "Get:20 http://security.ubuntu.com/ubuntu bionic-security/universe amd64 Packages [1,414 kB]\n",
      "Hit:21 http://ppa.launchpad.net/graphics-drivers/ppa/ubuntu bionic InRelease\n",
      "Get:22 http://security.ubuntu.com/ubuntu bionic-security/main amd64 Packages [2,154 kB]\n",
      "Get:23 http://ppa.launchpad.net/c2d4u.team/c2d4u4.0+/ubuntu bionic/main Sources [1,770 kB]\n",
      "Get:24 http://archive.ubuntu.com/ubuntu bionic-updates/restricted amd64 Packages [480 kB]\n",
      "Get:25 http://archive.ubuntu.com/ubuntu bionic-updates/universe amd64 Packages [2,184 kB]\n",
      "Get:26 http://ppa.launchpad.net/c2d4u.team/c2d4u4.0+/ubuntu bionic/main amd64 Packages [906 kB]\n",
      "Get:27 http://archive.ubuntu.com/ubuntu bionic-updates/main amd64 Packages [2,617 kB]\n",
      "Get:28 http://ppa.launchpad.net/deadsnakes/ppa/ubuntu bionic/main amd64 Packages [40.9 kB]\n",
      "Fetched 12.3 MB in 4s (2,914 kB/s)\n",
      "Reading package lists... Done\n",
      "Reading package lists... Done\n",
      "Building dependency tree       \n",
      "Reading state information... Done\n",
      "The following packages were automatically installed and are no longer required:\n",
      "  cuda-cuobjdump-10-0 cuda-cuobjdump-10-1 cuda-cuobjdump-11-0 cuda-gdb-10-0\n",
      "  cuda-gdb-10-1 cuda-gdb-11-0 cuda-gpu-library-advisor-10-0\n",
      "  cuda-gpu-library-advisor-10-1 cuda-libraries-10-0 cuda-libraries-10-1\n",
      "  cuda-memcheck-10-0 cuda-memcheck-10-1 cuda-memcheck-11-0 cuda-nsight-10-0\n",
      "  cuda-nsight-10-1 cuda-nsight-11-0 cuda-nsight-compute-10-0\n",
      "  cuda-nsight-compute-10-1 cuda-nsight-compute-11-0 cuda-nsight-systems-10-1\n",
      "  cuda-nsight-systems-11-0 cuda-nvdisasm-10-0 cuda-nvdisasm-10-1\n",
      "  cuda-nvdisasm-11-0 cuda-nvml-dev-10-0 cuda-nvml-dev-10-1 cuda-nvprof-10-0\n",
      "  cuda-nvprof-10-1 cuda-nvprune-10-0 cuda-nvprune-10-1 cuda-nvprune-11-0\n",
      "  cuda-nvtx-10-0 cuda-nvtx-10-1 cuda-nvvp-10-0 cuda-nvvp-10-1 cuda-nvvp-11-0\n",
      "  cuda-sanitizer-11-0 cuda-sanitizer-api-10-1 cuda-visual-tools-10-0\n",
      "  cuda-visual-tools-10-1 cuda-visual-tools-11-0 libbz2-dev libgfortran-7-dev\n",
      "  libpcre2-16-0 libpcre2-32-0 libpcre2-dev libpcre2-posix0 libreadline-dev\n",
      "  nsight-compute-2021.1.1 nsight-systems-2020.3.2 nsight-systems-2021.1.3\n",
      "Use 'apt autoremove' to remove them.\n",
      "The following additional packages will be installed:\n",
      "  build-essential cuda-9-0 cuda-command-line-tools-9-0 cuda-core-9-0\n",
      "  cuda-cublas-9-0 cuda-cublas-dev-9-0 cuda-cudart-9-0 cuda-cudart-dev-9-0\n",
      "  cuda-cufft-9-0 cuda-cufft-dev-9-0 cuda-curand-9-0 cuda-curand-dev-9-0\n",
      "  cuda-cusolver-9-0 cuda-cusolver-dev-9-0 cuda-cusparse-9-0\n",
      "  cuda-cusparse-dev-9-0 cuda-demo-suite-9-0 cuda-documentation-9-0\n",
      "  cuda-driver-dev-9-0 cuda-drivers cuda-drivers-465 cuda-libraries-9-0\n",
      "  cuda-libraries-dev-9-0 cuda-license-9-0 cuda-misc-headers-9-0 cuda-npp-9-0\n",
      "  cuda-npp-dev-9-0 cuda-nvgraph-9-0 cuda-nvgraph-dev-9-0 cuda-nvml-dev-9-0\n",
      "  cuda-nvrtc-9-0 cuda-nvrtc-dev-9-0 cuda-runtime-9-0 cuda-samples-9-0\n",
      "  cuda-toolkit-9-0 cuda-visual-tools-9-0 dkms fakeroot g++ g++-7 gcc gcc-7\n",
      "  libfakeroot nvidia-dkms-465 nvidia-driver-465 nvidia-prime\n",
      "Suggested packages:\n",
      "  python3-apport menu g++-multilib g++-7-multilib gcc-7-doc libstdc++6-7-dbg\n",
      "  gcc-multilib autoconf automake libtool flex bison gdb gcc-doc gcc-7-multilib\n",
      "  gcc-7-locales libgcc1-dbg libgomp1-dbg libitm1-dbg libatomic1-dbg\n",
      "  libasan4-dbg liblsan0-dbg libtsan0-dbg libubsan0-dbg libcilkrts5-dbg\n",
      "  libmpx2-dbg libquadmath0-dbg\n",
      "Recommended packages:\n",
      "  libnvidia-compute-465:i386 libnvidia-decode-465:i386\n",
      "  libnvidia-encode-465:i386 libnvidia-ifr1-465:i386 libnvidia-fbc1-465:i386\n",
      "  libnvidia-gl-465:i386\n",
      "The following NEW packages will be installed:\n",
      "  build-essential cuda cuda-9-0 cuda-command-line-tools-9-0 cuda-core-9-0\n",
      "  cuda-cublas-9-0 cuda-cublas-dev-9-0 cuda-cudart-9-0 cuda-cudart-dev-9-0\n",
      "  cuda-cufft-9-0 cuda-cufft-dev-9-0 cuda-curand-9-0 cuda-curand-dev-9-0\n",
      "  cuda-cusolver-9-0 cuda-cusolver-dev-9-0 cuda-cusparse-9-0\n",
      "  cuda-cusparse-dev-9-0 cuda-demo-suite-9-0 cuda-documentation-9-0\n",
      "  cuda-driver-dev-9-0 cuda-drivers cuda-drivers-465 cuda-libraries-9-0\n",
      "  cuda-libraries-dev-9-0 cuda-license-9-0 cuda-misc-headers-9-0 cuda-npp-9-0\n",
      "  cuda-npp-dev-9-0 cuda-nvgraph-9-0 cuda-nvgraph-dev-9-0 cuda-nvml-dev-9-0\n",
      "  cuda-nvrtc-9-0 cuda-nvrtc-dev-9-0 cuda-runtime-9-0 cuda-samples-9-0\n",
      "  cuda-toolkit-9-0 cuda-visual-tools-9-0 dkms fakeroot g++ g++-7 gcc gcc-7\n",
      "  libfakeroot nvidia-dkms-465 nvidia-driver-465 nvidia-prime\n",
      "0 upgraded, 47 newly installed, 0 to remove and 45 not upgraded.\n",
      "Need to get 19.7 MB/1,116 MB of archives.\n",
      "After this operation, 2,372 MB of additional disk space will be used.\n",
      "Get:1 file:/var/cuda-repo-9-0-local  cuda-license-9-0 9.0.176-1 [22.0 kB]\n",
      "Get:2 file:/var/cuda-repo-9-0-local  cuda-misc-headers-9-0 9.0.176-1 [684 kB]\n",
      "Get:3 https://developer.download.nvidia.com/compute/cuda/repos/ubuntu1804/x86_64  cuda-drivers-465 465.19.01-1 [2,620 B]\n",
      "Get:4 https://developer.download.nvidia.com/compute/cuda/repos/ubuntu1804/x86_64  cuda-drivers 465.19.01-1 [2,496 B]\n",
      "Get:5 file:/var/cuda-repo-9-0-local  cuda-core-9-0 9.0.176-1 [16.9 MB]\n",
      "Get:6 file:/var/cuda-repo-9-0-local  cuda-cudart-9-0 9.0.176-1 [106 kB]\n",
      "Get:7 file:/var/cuda-repo-9-0-local  cuda-driver-dev-9-0 9.0.176-1 [10.9 kB]\n",
      "Get:8 file:/var/cuda-repo-9-0-local  cuda-cudart-dev-9-0 9.0.176-1 [767 kB]\n",
      "Get:9 http://archive.ubuntu.com/ubuntu bionic-updates/main amd64 gcc-7 amd64 7.5.0-3ubuntu1~18.04 [9,381 kB]\n",
      "Get:10 file:/var/cuda-repo-9-0-local  cuda-command-line-tools-9-0 9.0.176-1 [25.4 MB]\n",
      "Get:11 file:/var/cuda-repo-9-0-local  cuda-nvrtc-9-0 9.0.176-1 [6,348 kB]\n",
      "Get:12 file:/var/cuda-repo-9-0-local  cuda-nvrtc-dev-9-0 9.0.176-1 [9,334 B]\n",
      "Get:13 file:/var/cuda-repo-9-0-local  cuda-cusolver-9-0 9.0.176-1 [26.2 MB]\n",
      "Get:14 file:/var/cuda-repo-9-0-local  cuda-cusolver-dev-9-0 9.0.176-1 [5,317 kB]\n",
      "Get:15 file:/var/cuda-repo-9-0-local  cuda-cublas-9-0 9.0.176-1 [25.0 MB]\n",
      "Get:16 http://archive.ubuntu.com/ubuntu bionic-updates/main amd64 gcc amd64 4:7.4.0-1ubuntu2.3 [5,184 B]\n",
      "Get:17 http://archive.ubuntu.com/ubuntu bionic-updates/main amd64 g++-7 amd64 7.5.0-3ubuntu1~18.04 [9,697 kB]\n",
      "Get:18 http://archive.ubuntu.com/ubuntu bionic-updates/main amd64 g++ amd64 4:7.4.0-1ubuntu2.3 [1,568 B]\n",
      "Get:19 http://archive.ubuntu.com/ubuntu bionic/main amd64 build-essential amd64 12.4ubuntu1 [4,758 B]\n",
      "Get:20 http://archive.ubuntu.com/ubuntu bionic-updates/main amd64 dkms all 2.3-3ubuntu9.7 [68.1 kB]\n",
      "Get:21 http://archive.ubuntu.com/ubuntu bionic-updates/restricted amd64 nvidia-dkms-465 amd64 465.27-0ubuntu0.18.04.2 [28.4 kB]\n",
      "Get:22 http://archive.ubuntu.com/ubuntu bionic-updates/restricted amd64 nvidia-driver-465 amd64 465.27-0ubuntu0.18.04.2 [435 kB]\n",
      "Get:23 file:/var/cuda-repo-9-0-local  cuda-cublas-dev-9-0 9.0.176-1 [49.4 MB]\n",
      "Get:24 http://archive.ubuntu.com/ubuntu bionic/main amd64 libfakeroot amd64 1.22-2ubuntu1 [25.9 kB]\n",
      "Get:25 http://archive.ubuntu.com/ubuntu bionic/main amd64 fakeroot amd64 1.22-2ubuntu1 [62.3 kB]\n",
      "Get:26 http://archive.ubuntu.com/ubuntu bionic-updates/main amd64 nvidia-prime all 0.8.16~0.18.04.1 [9,224 B]\n",
      "Get:27 file:/var/cuda-repo-9-0-local  cuda-cufft-9-0 9.0.176-1 [84.1 MB]\n",
      "Get:28 file:/var/cuda-repo-9-0-local  cuda-cufft-dev-9-0 9.0.176-1 [73.7 MB]\n",
      "Get:29 file:/var/cuda-repo-9-0-local  cuda-curand-9-0 9.0.176-1 [38.8 MB]\n",
      "Get:30 file:/var/cuda-repo-9-0-local  cuda-curand-dev-9-0 9.0.176-1 [57.9 MB]\n",
      "Get:31 file:/var/cuda-repo-9-0-local  cuda-cusparse-9-0 9.0.176-1 [25.2 MB]\n",
      "Get:32 file:/var/cuda-repo-9-0-local  cuda-cusparse-dev-9-0 9.0.176-1 [25.3 MB]\n",
      "Get:33 file:/var/cuda-repo-9-0-local  cuda-npp-9-0 9.0.176-1 [46.6 MB]\n",
      "Get:34 file:/var/cuda-repo-9-0-local  cuda-npp-dev-9-0 9.0.176-1 [46.6 MB]\n",
      "Get:35 file:/var/cuda-repo-9-0-local  cuda-nvgraph-9-0 9.0.176-1 [6,081 kB]\n",
      "Get:36 file:/var/cuda-repo-9-0-local  cuda-nvgraph-dev-9-0 9.0.176-1 [5,658 kB]\n",
      "Get:37 file:/var/cuda-repo-9-0-local  cuda-samples-9-0 9.0.176-1 [75.9 MB]\n",
      "Get:38 file:/var/cuda-repo-9-0-local  cuda-documentation-9-0 9.0.176-1 [53.1 MB]\n",
      "Get:39 file:/var/cuda-repo-9-0-local  cuda-libraries-dev-9-0 9.0.176-1 [2,596 B]\n",
      "Get:40 file:/var/cuda-repo-9-0-local  cuda-nvml-dev-9-0 9.0.176-1 [47.6 kB]\n",
      "Get:41 file:/var/cuda-repo-9-0-local  cuda-visual-tools-9-0 9.0.176-1 [398 MB]\n",
      "Get:42 file:/var/cuda-repo-9-0-local  cuda-toolkit-9-0 9.0.176-1 [2,836 B]\n",
      "Get:43 file:/var/cuda-repo-9-0-local  cuda-libraries-9-0 9.0.176-1 [2,566 B]\n",
      "Get:44 file:/var/cuda-repo-9-0-local  cuda-runtime-9-0 9.0.176-1 [2,526 B]\n",
      "Get:45 file:/var/cuda-repo-9-0-local  cuda-demo-suite-9-0 9.0.176-1 [3,880 kB]\n",
      "Get:46 file:/var/cuda-repo-9-0-local  cuda-9-0 9.0.176-1 [2,552 B]\n",
      "Get:47 file:/var/cuda-repo-9-0-local  cuda 9.0.176-1 [2,504 B]\n",
      "Fetched 19.7 MB in 14s (1,382 kB/s)\n",
      "Extracting templates from packages: 100%\n",
      "Selecting previously unselected package gcc-7.\n",
      "(Reading database ... 140133 files and directories currently installed.)\n",
      "Preparing to unpack .../00-gcc-7_7.5.0-3ubuntu1~18.04_amd64.deb ...\n",
      "Unpacking gcc-7 (7.5.0-3ubuntu1~18.04) ...\n",
      "Selecting previously unselected package gcc.\n",
      "Preparing to unpack .../01-gcc_4%3a7.4.0-1ubuntu2.3_amd64.deb ...\n",
      "Unpacking gcc (4:7.4.0-1ubuntu2.3) ...\n",
      "Selecting previously unselected package g++-7.\n",
      "Preparing to unpack .../02-g++-7_7.5.0-3ubuntu1~18.04_amd64.deb ...\n",
      "Unpacking g++-7 (7.5.0-3ubuntu1~18.04) ...\n",
      "Selecting previously unselected package g++.\n",
      "Preparing to unpack .../03-g++_4%3a7.4.0-1ubuntu2.3_amd64.deb ...\n",
      "Unpacking g++ (4:7.4.0-1ubuntu2.3) ...\n",
      "Selecting previously unselected package build-essential.\n",
      "Preparing to unpack .../04-build-essential_12.4ubuntu1_amd64.deb ...\n",
      "Unpacking build-essential (12.4ubuntu1) ...\n",
      "Selecting previously unselected package cuda-license-9-0.\n",
      "Preparing to unpack .../05-cuda-license-9-0_9.0.176-1_amd64.deb ...\n",
      "Unpacking cuda-license-9-0 (9.0.176-1) ...\n",
      "Selecting previously unselected package cuda-misc-headers-9-0.\n",
      "Preparing to unpack .../06-cuda-misc-headers-9-0_9.0.176-1_amd64.deb ...\n",
      "Unpacking cuda-misc-headers-9-0 (9.0.176-1) ...\n",
      "Selecting previously unselected package cuda-core-9-0.\n",
      "Preparing to unpack .../07-cuda-core-9-0_9.0.176-1_amd64.deb ...\n",
      "Unpacking cuda-core-9-0 (9.0.176-1) ...\n",
      "Selecting previously unselected package cuda-cudart-9-0.\n",
      "Preparing to unpack .../08-cuda-cudart-9-0_9.0.176-1_amd64.deb ...\n",
      "Unpacking cuda-cudart-9-0 (9.0.176-1) ...\n",
      "Selecting previously unselected package cuda-driver-dev-9-0.\n",
      "Preparing to unpack .../09-cuda-driver-dev-9-0_9.0.176-1_amd64.deb ...\n",
      "Unpacking cuda-driver-dev-9-0 (9.0.176-1) ...\n",
      "Selecting previously unselected package cuda-cudart-dev-9-0.\n",
      "Preparing to unpack .../10-cuda-cudart-dev-9-0_9.0.176-1_amd64.deb ...\n",
      "Unpacking cuda-cudart-dev-9-0 (9.0.176-1) ...\n",
      "Selecting previously unselected package cuda-command-line-tools-9-0.\n",
      "Preparing to unpack .../11-cuda-command-line-tools-9-0_9.0.176-1_amd64.deb ...\n",
      "Unpacking cuda-command-line-tools-9-0 (9.0.176-1) ...\n",
      "Selecting previously unselected package cuda-nvrtc-9-0.\n",
      "Preparing to unpack .../12-cuda-nvrtc-9-0_9.0.176-1_amd64.deb ...\n",
      "Unpacking cuda-nvrtc-9-0 (9.0.176-1) ...\n",
      "Selecting previously unselected package cuda-nvrtc-dev-9-0.\n",
      "Preparing to unpack .../13-cuda-nvrtc-dev-9-0_9.0.176-1_amd64.deb ...\n",
      "Unpacking cuda-nvrtc-dev-9-0 (9.0.176-1) ...\n",
      "Selecting previously unselected package cuda-cusolver-9-0.\n",
      "Preparing to unpack .../14-cuda-cusolver-9-0_9.0.176-1_amd64.deb ...\n",
      "Unpacking cuda-cusolver-9-0 (9.0.176-1) ...\n",
      "Selecting previously unselected package cuda-cusolver-dev-9-0.\n",
      "Preparing to unpack .../15-cuda-cusolver-dev-9-0_9.0.176-1_amd64.deb ...\n",
      "Unpacking cuda-cusolver-dev-9-0 (9.0.176-1) ...\n",
      "Selecting previously unselected package cuda-cublas-9-0.\n",
      "Preparing to unpack .../16-cuda-cublas-9-0_9.0.176-1_amd64.deb ...\n",
      "Unpacking cuda-cublas-9-0 (9.0.176-1) ...\n",
      "Selecting previously unselected package cuda-cublas-dev-9-0.\n",
      "Preparing to unpack .../17-cuda-cublas-dev-9-0_9.0.176-1_amd64.deb ...\n",
      "Unpacking cuda-cublas-dev-9-0 (9.0.176-1) ...\n",
      "Selecting previously unselected package cuda-cufft-9-0.\n",
      "Preparing to unpack .../18-cuda-cufft-9-0_9.0.176-1_amd64.deb ...\n",
      "Unpacking cuda-cufft-9-0 (9.0.176-1) ...\n",
      "Selecting previously unselected package cuda-cufft-dev-9-0.\n",
      "Preparing to unpack .../19-cuda-cufft-dev-9-0_9.0.176-1_amd64.deb ...\n",
      "Unpacking cuda-cufft-dev-9-0 (9.0.176-1) ...\n",
      "Selecting previously unselected package cuda-curand-9-0.\n",
      "Preparing to unpack .../20-cuda-curand-9-0_9.0.176-1_amd64.deb ...\n",
      "Unpacking cuda-curand-9-0 (9.0.176-1) ...\n",
      "Selecting previously unselected package cuda-curand-dev-9-0.\n",
      "Preparing to unpack .../21-cuda-curand-dev-9-0_9.0.176-1_amd64.deb ...\n",
      "Unpacking cuda-curand-dev-9-0 (9.0.176-1) ...\n",
      "Selecting previously unselected package cuda-cusparse-9-0.\n",
      "Preparing to unpack .../22-cuda-cusparse-9-0_9.0.176-1_amd64.deb ...\n",
      "Unpacking cuda-cusparse-9-0 (9.0.176-1) ...\n",
      "Selecting previously unselected package cuda-cusparse-dev-9-0.\n",
      "Preparing to unpack .../23-cuda-cusparse-dev-9-0_9.0.176-1_amd64.deb ...\n",
      "Unpacking cuda-cusparse-dev-9-0 (9.0.176-1) ...\n",
      "Selecting previously unselected package cuda-npp-9-0.\n",
      "Preparing to unpack .../24-cuda-npp-9-0_9.0.176-1_amd64.deb ...\n",
      "Unpacking cuda-npp-9-0 (9.0.176-1) ...\n",
      "Selecting previously unselected package cuda-npp-dev-9-0.\n",
      "Preparing to unpack .../25-cuda-npp-dev-9-0_9.0.176-1_amd64.deb ...\n",
      "Unpacking cuda-npp-dev-9-0 (9.0.176-1) ...\n",
      "Selecting previously unselected package cuda-nvgraph-9-0.\n",
      "Preparing to unpack .../26-cuda-nvgraph-9-0_9.0.176-1_amd64.deb ...\n",
      "Unpacking cuda-nvgraph-9-0 (9.0.176-1) ...\n",
      "Selecting previously unselected package cuda-nvgraph-dev-9-0.\n",
      "Preparing to unpack .../27-cuda-nvgraph-dev-9-0_9.0.176-1_amd64.deb ...\n",
      "Unpacking cuda-nvgraph-dev-9-0 (9.0.176-1) ...\n",
      "Selecting previously unselected package cuda-samples-9-0.\n",
      "Preparing to unpack .../28-cuda-samples-9-0_9.0.176-1_amd64.deb ...\n",
      "Unpacking cuda-samples-9-0 (9.0.176-1) ...\n",
      "Selecting previously unselected package cuda-documentation-9-0.\n",
      "Preparing to unpack .../29-cuda-documentation-9-0_9.0.176-1_amd64.deb ...\n",
      "Unpacking cuda-documentation-9-0 (9.0.176-1) ...\n",
      "Selecting previously unselected package cuda-libraries-dev-9-0.\n",
      "Preparing to unpack .../30-cuda-libraries-dev-9-0_9.0.176-1_amd64.deb ...\n",
      "Unpacking cuda-libraries-dev-9-0 (9.0.176-1) ...\n",
      "Selecting previously unselected package cuda-nvml-dev-9-0.\n",
      "Preparing to unpack .../31-cuda-nvml-dev-9-0_9.0.176-1_amd64.deb ...\n",
      "Unpacking cuda-nvml-dev-9-0 (9.0.176-1) ...\n",
      "Selecting previously unselected package cuda-visual-tools-9-0.\n",
      "Preparing to unpack .../32-cuda-visual-tools-9-0_9.0.176-1_amd64.deb ...\n",
      "Unpacking cuda-visual-tools-9-0 (9.0.176-1) ...\n",
      "Selecting previously unselected package cuda-toolkit-9-0.\n",
      "Preparing to unpack .../33-cuda-toolkit-9-0_9.0.176-1_amd64.deb ...\n",
      "Unpacking cuda-toolkit-9-0 (9.0.176-1) ...\n",
      "Selecting previously unselected package dkms.\n",
      "Preparing to unpack .../34-dkms_2.3-3ubuntu9.7_all.deb ...\n",
      "Unpacking dkms (2.3-3ubuntu9.7) ...\n",
      "Selecting previously unselected package nvidia-dkms-465.\n",
      "Preparing to unpack .../35-nvidia-dkms-465_465.27-0ubuntu0.18.04.2_amd64.deb ...\n",
      "Unpacking nvidia-dkms-465 (465.27-0ubuntu0.18.04.2) ...\n",
      "Selecting previously unselected package nvidia-driver-465.\n",
      "Preparing to unpack .../36-nvidia-driver-465_465.27-0ubuntu0.18.04.2_amd64.deb ...\n",
      "Unpacking nvidia-driver-465 (465.27-0ubuntu0.18.04.2) ...\n",
      "Selecting previously unselected package cuda-drivers-465.\n",
      "Preparing to unpack .../37-cuda-drivers-465_465.19.01-1_amd64.deb ...\n",
      "Unpacking cuda-drivers-465 (465.19.01-1) ...\n",
      "Selecting previously unselected package cuda-drivers.\n",
      "Preparing to unpack .../38-cuda-drivers_465.19.01-1_amd64.deb ...\n",
      "Unpacking cuda-drivers (465.19.01-1) ...\n",
      "Selecting previously unselected package cuda-libraries-9-0.\n",
      "Preparing to unpack .../39-cuda-libraries-9-0_9.0.176-1_amd64.deb ...\n",
      "Unpacking cuda-libraries-9-0 (9.0.176-1) ...\n",
      "Selecting previously unselected package cuda-runtime-9-0.\n",
      "Preparing to unpack .../40-cuda-runtime-9-0_9.0.176-1_amd64.deb ...\n",
      "Unpacking cuda-runtime-9-0 (9.0.176-1) ...\n",
      "Selecting previously unselected package cuda-demo-suite-9-0.\n",
      "Preparing to unpack .../41-cuda-demo-suite-9-0_9.0.176-1_amd64.deb ...\n",
      "Unpacking cuda-demo-suite-9-0 (9.0.176-1) ...\n",
      "Selecting previously unselected package cuda-9-0.\n",
      "Preparing to unpack .../42-cuda-9-0_9.0.176-1_amd64.deb ...\n",
      "Unpacking cuda-9-0 (9.0.176-1) ...\n",
      "Selecting previously unselected package cuda.\n",
      "Preparing to unpack .../43-cuda_9.0.176-1_amd64.deb ...\n",
      "Unpacking cuda (9.0.176-1) ...\n",
      "Selecting previously unselected package libfakeroot:amd64.\n",
      "Preparing to unpack .../44-libfakeroot_1.22-2ubuntu1_amd64.deb ...\n",
      "Unpacking libfakeroot:amd64 (1.22-2ubuntu1) ...\n",
      "Selecting previously unselected package fakeroot.\n",
      "Preparing to unpack .../45-fakeroot_1.22-2ubuntu1_amd64.deb ...\n",
      "Unpacking fakeroot (1.22-2ubuntu1) ...\n",
      "Selecting previously unselected package nvidia-prime.\n",
      "Preparing to unpack .../46-nvidia-prime_0.8.16~0.18.04.1_all.deb ...\n",
      "Unpacking nvidia-prime (0.8.16~0.18.04.1) ...\n",
      "Setting up nvidia-prime (0.8.16~0.18.04.1) ...\n",
      "Setting up gcc-7 (7.5.0-3ubuntu1~18.04) ...\n",
      "Setting up g++-7 (7.5.0-3ubuntu1~18.04) ...\n",
      "Setting up gcc (4:7.4.0-1ubuntu2.3) ...\n",
      "Setting up dkms (2.3-3ubuntu9.7) ...\n",
      "Setting up libfakeroot:amd64 (1.22-2ubuntu1) ...\n",
      "Setting up g++ (4:7.4.0-1ubuntu2.3) ...\n",
      "update-alternatives: using /usr/bin/g++ to provide /usr/bin/c++ (c++) in auto mode\n",
      "Setting up cuda-license-9-0 (9.0.176-1) ...\n",
      "*** LICENSE AGREEMENT ***\n",
      "By using this software you agree to fully comply with the terms and \n",
      "conditions of the EULA (End User License Agreement). The EULA is located\n",
      "at /usr/local/cuda-9.0/doc/EULA.txt. The EULA can also be found at\n",
      "http://docs.nvidia.com/cuda/eula/index.html. If you do not agree to the\n",
      "terms and conditions of the EULA, do not use the software.\n",
      "\n",
      "Setting up cuda-cusparse-9-0 (9.0.176-1) ...\n",
      "Setting up cuda-cudart-9-0 (9.0.176-1) ...\n",
      "Setting up cuda-nvrtc-9-0 (9.0.176-1) ...\n",
      "Setting up cuda-cusparse-dev-9-0 (9.0.176-1) ...\n",
      "Setting up build-essential (12.4ubuntu1) ...\n",
      "Setting up nvidia-dkms-465 (465.27-0ubuntu0.18.04.2) ...\n",
      "Loading new nvidia-465.27 DKMS files...\n",
      "It is likely that 5.4.109+ belongs to a chroot's host\n",
      "Building for 4.15.0-143-generic\n",
      "Building for architecture x86_64\n",
      "Building initial module for 4.15.0-143-generic\n",
      "Done.\n",
      "\n",
      "nvidia:\n",
      "Running module version sanity check.\n",
      " - Original module\n",
      "   - No original module exists within this kernel\n",
      " - Installation\n",
      "   - Installing to /lib/modules/4.15.0-143-generic/updates/dkms/\n",
      "\n",
      "nvidia-modeset.ko:\n",
      "Running module version sanity check.\n",
      " - Original module\n",
      "   - No original module exists within this kernel\n",
      " - Installation\n",
      "   - Installing to /lib/modules/4.15.0-143-generic/updates/dkms/\n",
      "\n",
      "nvidia-drm.ko:\n",
      "Running module version sanity check.\n",
      " - Original module\n",
      "   - No original module exists within this kernel\n",
      " - Installation\n",
      "   - Installing to /lib/modules/4.15.0-143-generic/updates/dkms/\n",
      "\n",
      "nvidia-uvm.ko:\n",
      "Running module version sanity check.\n",
      " - Original module\n",
      "   - No original module exists within this kernel\n",
      " - Installation\n",
      "   - Installing to /lib/modules/4.15.0-143-generic/updates/dkms/\n",
      "\n",
      "nvidia-peermem.ko:\n",
      "Running module version sanity check.\n",
      " - Original module\n",
      "   - No original module exists within this kernel\n",
      " - Installation\n",
      "   - Installing to /lib/modules/4.15.0-143-generic/updates/dkms/\n",
      "\n",
      "depmod...\n",
      "\n",
      "DKMS: install completed.\n",
      "Setting up cuda-cufft-9-0 (9.0.176-1) ...\n",
      "Setting up cuda-cusolver-9-0 (9.0.176-1) ...\n",
      "Setting up fakeroot (1.22-2ubuntu1) ...\n",
      "update-alternatives: using /usr/bin/fakeroot-sysv to provide /usr/bin/fakeroot (fakeroot) in auto mode\n",
      "Setting up cuda-nvml-dev-9-0 (9.0.176-1) ...\n",
      "Setting up cuda-npp-9-0 (9.0.176-1) ...\n",
      "Setting up cuda-cusolver-dev-9-0 (9.0.176-1) ...\n",
      "Setting up cuda-misc-headers-9-0 (9.0.176-1) ...\n",
      "Setting up cuda-cublas-9-0 (9.0.176-1) ...\n",
      "Setting up cuda-nvrtc-dev-9-0 (9.0.176-1) ...\n",
      "Setting up cuda-driver-dev-9-0 (9.0.176-1) ...\n",
      "Setting up cuda-curand-9-0 (9.0.176-1) ...\n",
      "Setting up cuda-nvgraph-9-0 (9.0.176-1) ...\n",
      "Setting up nvidia-driver-465 (465.27-0ubuntu0.18.04.2) ...\n",
      "Setting up cuda-core-9-0 (9.0.176-1) ...\n",
      "Setting up cuda-libraries-9-0 (9.0.176-1) ...\n",
      "Setting up cuda-cudart-dev-9-0 (9.0.176-1) ...\n",
      "Setting up cuda-cufft-dev-9-0 (9.0.176-1) ...\n",
      "Setting up cuda-drivers-465 (465.19.01-1) ...\n",
      "Setting up cuda-npp-dev-9-0 (9.0.176-1) ...\n",
      "Setting up cuda-curand-dev-9-0 (9.0.176-1) ...\n",
      "Setting up cuda-cublas-dev-9-0 (9.0.176-1) ...\n",
      "Setting up cuda-drivers (465.19.01-1) ...\n",
      "Setting up cuda-nvgraph-dev-9-0 (9.0.176-1) ...\n",
      "Setting up cuda-command-line-tools-9-0 (9.0.176-1) ...\n",
      "Setting up cuda-visual-tools-9-0 (9.0.176-1) ...\n",
      "Setting up cuda-runtime-9-0 (9.0.176-1) ...\n",
      "Setting up cuda-samples-9-0 (9.0.176-1) ...\n",
      "Setting up cuda-libraries-dev-9-0 (9.0.176-1) ...\n",
      "Setting up cuda-demo-suite-9-0 (9.0.176-1) ...\n",
      "Setting up cuda-documentation-9-0 (9.0.176-1) ...\n",
      "Setting up cuda-toolkit-9-0 (9.0.176-1) ...\n",
      "Setting up cuda-9-0 (9.0.176-1) ...\n",
      "Setting up cuda (9.0.176-1) ...\n",
      "Processing triggers for libc-bin (2.27-3ubuntu1.2) ...\n",
      "Processing triggers for man-db (2.8.3-2ubuntu0.1) ...\n"
     ]
    }
   ],
   "source": [
    "!wget https://developer.nvidia.com/compute/cuda/9.0/Prod/local_installers/cuda-repo-ubuntu1604-9-0-local_9.0.176-1_amd64-deb\n",
    "!dpkg -i cuda-repo-ubuntu1604-9-0-local_9.0.176-1_amd64-deb\n",
    "!apt-key add /var/cuda-repo-9-0-local/7fa2af80.pub\n",
    "!apt-get update\n",
    "!apt-get install cuda=9.0.176-1"
   ]
  },
  {
   "cell_type": "code",
   "execution_count": null,
   "metadata": {
    "colab": {
     "base_uri": "https://localhost:8080/"
    },
    "executionInfo": {
     "elapsed": 289,
     "status": "ok",
     "timestamp": 1622711654980,
     "user": {
      "displayName": "Calvin Pang",
      "photoUrl": "https://lh3.googleusercontent.com/a-/AOh14Gjq7gHOpQwNhPFpmphSb582TO3eRzAe2LWanxCY=s64",
      "userId": "10508028720034560594"
     },
     "user_tz": -480
    },
    "id": "PaeYu58rcPEM",
    "outputId": "cd517a6e-7b4f-428e-9f0f-7ea2cc3a2569"
   },
   "outputs": [
    {
     "name": "stdout",
     "output_type": "stream",
     "text": [
      "nvcc: NVIDIA (R) Cuda compiler driver\n",
      "Copyright (c) 2005-2017 NVIDIA Corporation\n",
      "Built on Fri_Sep__1_21:08:03_CDT_2017\n",
      "Cuda compilation tools, release 9.0, V9.0.176\n"
     ]
    }
   ],
   "source": [
    "!nvcc --version"
   ]
  },
  {
   "cell_type": "code",
   "execution_count": null,
   "metadata": {
    "colab": {
     "base_uri": "https://localhost:8080/"
    },
    "executionInfo": {
     "elapsed": 112090,
     "status": "ok",
     "timestamp": 1622711769906,
     "user": {
      "displayName": "Calvin Pang",
      "photoUrl": "https://lh3.googleusercontent.com/a-/AOh14Gjq7gHOpQwNhPFpmphSb582TO3eRzAe2LWanxCY=s64",
      "userId": "10508028720034560594"
     },
     "user_tz": -480
    },
    "id": "nEKdFi7pBlbm",
    "outputId": "489a8c92-db3d-49e6-8ee7-a983ddd40f65"
   },
   "outputs": [
    {
     "name": "stdout",
     "output_type": "stream",
     "text": [
      "Collecting torch==0.4.1.post2\n",
      "\u001b[?25l  Downloading https://files.pythonhosted.org/packages/d3/91/1b2871d6c8ca079254deae5872af32e02e9a85f07dd0834e8b3489ce138f/torch-0.4.1.post2-cp37-cp37m-manylinux1_x86_64.whl (519.5MB)\n",
      "\u001b[K     |████████████████████████████████| 519.5MB 23kB/s \n",
      "\u001b[31mERROR: torchvision 0.9.1+cu101 has requirement torch==1.8.1, but you'll have torch 0.4.1.post2 which is incompatible.\u001b[0m\n",
      "\u001b[31mERROR: torchtext 0.9.1 has requirement torch==1.8.1, but you'll have torch 0.4.1.post2 which is incompatible.\u001b[0m\n",
      "\u001b[31mERROR: fastai 1.0.61 has requirement torch>=1.0.0, but you'll have torch 0.4.1.post2 which is incompatible.\u001b[0m\n",
      "\u001b[?25hInstalling collected packages: torch\n",
      "  Found existing installation: torch 1.8.1+cu101\n",
      "    Uninstalling torch-1.8.1+cu101:\n",
      "      Successfully uninstalled torch-1.8.1+cu101\n",
      "Successfully installed torch-0.4.1.post2\n"
     ]
    }
   ],
   "source": [
    "!pip install https://download.pytorch.org/whl/cu90/torch-0.4.1.post2-cp37-cp37m-linux_x86_64.whl"
   ]
  },
  {
   "cell_type": "code",
   "execution_count": null,
   "metadata": {
    "colab": {
     "base_uri": "https://localhost:8080/"
    },
    "executionInfo": {
     "elapsed": 783,
     "status": "ok",
     "timestamp": 1622711809059,
     "user": {
      "displayName": "Calvin Pang",
      "photoUrl": "https://lh3.googleusercontent.com/a-/AOh14Gjq7gHOpQwNhPFpmphSb582TO3eRzAe2LWanxCY=s64",
      "userId": "10508028720034560594"
     },
     "user_tz": -480
    },
    "id": "2eYiLCDhcGXi",
    "outputId": "d1eaa992-74e5-4bac-95e4-06ba304fff8f"
   },
   "outputs": [
    {
     "name": "stdout",
     "output_type": "stream",
     "text": [
      "9.0.176\n"
     ]
    }
   ],
   "source": [
    "!python -c \"import torch;print(torch.version.cuda)\""
   ]
  },
  {
   "cell_type": "code",
   "execution_count": null,
   "metadata": {
    "colab": {
     "base_uri": "https://localhost:8080/"
    },
    "executionInfo": {
     "elapsed": 4639,
     "status": "ok",
     "timestamp": 1622711878477,
     "user": {
      "displayName": "Calvin Pang",
      "photoUrl": "https://lh3.googleusercontent.com/a-/AOh14Gjq7gHOpQwNhPFpmphSb582TO3eRzAe2LWanxCY=s64",
      "userId": "10508028720034560594"
     },
     "user_tz": -480
    },
    "id": "z8Cr75ydWxNG",
    "outputId": "3742c9f6-8ddd-4045-ee70-bed061af4021"
   },
   "outputs": [
    {
     "name": "stdout",
     "output_type": "stream",
     "text": [
      "Looking in indexes: https://test.pypi.org/simple/, https://pypi.org/simple/\n",
      "Collecting torchvision==0.2.1.post2\n",
      "\u001b[?25l  Downloading https://test-files.pythonhosted.org/packages/cd/49/5f93fd99a6bc8b6e1dece0ca8d5fcfeb234b2ae97a2b68cd168047870f76/torchvision-0.2.1.post2-py2.py3-none-any.whl (54kB)\n",
      "\u001b[K     |████████████████████████████████| 61kB 5.5MB/s \n",
      "\u001b[?25hRequirement already satisfied: tqdm in /usr/local/lib/python3.7/dist-packages (from torchvision==0.2.1.post2) (4.41.1)\n",
      "Requirement already satisfied: pillow>=4.1.1 in /usr/local/lib/python3.7/dist-packages (from torchvision==0.2.1.post2) (7.1.2)\n",
      "Requirement already satisfied: six in /usr/local/lib/python3.7/dist-packages (from torchvision==0.2.1.post2) (1.15.0)\n",
      "Requirement already satisfied: numpy in /usr/local/lib/python3.7/dist-packages (from torchvision==0.2.1.post2) (1.19.5)\n",
      "\u001b[31mERROR: fastai 1.0.61 has requirement torch>=1.0.0, but you'll have torch 0.4.1.post2 which is incompatible.\u001b[0m\n",
      "Installing collected packages: torchvision\n",
      "  Found existing installation: torchvision 0.9.1+cu101\n",
      "    Uninstalling torchvision-0.9.1+cu101:\n",
      "      Successfully uninstalled torchvision-0.9.1+cu101\n",
      "Successfully installed torchvision-0.2.1.post2\n"
     ]
    }
   ],
   "source": [
    "!pip install --index-url https://test.pypi.org/simple/ --extra-index-url https://pypi.org/simple/ torchvision==0.2.1.post2"
   ]
  },
  {
   "cell_type": "code",
   "execution_count": null,
   "metadata": {
    "id": "gR2MOCs8XDRQ"
   },
   "outputs": [],
   "source": [
    "!sed -i \"1254s/torch\\.backends\\.cudnn\\.enabled/False/g\" /usr/local/lib/python3.10/dist-packages/torch/nn/functional.py"
   ]
  },
  {
   "cell_type": "code",
   "execution_count": null,
   "metadata": {
    "colab": {
     "base_uri": "https://localhost:8080/"
    },
    "executionInfo": {
     "elapsed": 496,
     "status": "ok",
     "timestamp": 1622711896228,
     "user": {
      "displayName": "Calvin Pang",
      "photoUrl": "https://lh3.googleusercontent.com/a-/AOh14Gjq7gHOpQwNhPFpmphSb582TO3eRzAe2LWanxCY=s64",
      "userId": "10508028720034560594"
     },
     "user_tz": -480
    },
    "id": "-GYocZaJYfby",
    "outputId": "e77f8ebd-f8b6-455a-e138-c01243dc49b1"
   },
   "outputs": [
    {
     "name": "stdout",
     "output_type": "stream",
     "text": [
      "/content/drive/My Drive/COCOAPI\n"
     ]
    }
   ],
   "source": [
    "cd /content/drive/My Drive/COCOAPI"
   ]
  },
  {
   "cell_type": "code",
   "execution_count": null,
   "metadata": {
    "id": "L-DvI1VOYQm6"
   },
   "outputs": [],
   "source": [
    "!git clone https://github.com/cocodataset/cocoapi.git "
   ]
  },
  {
   "cell_type": "code",
   "execution_count": null,
   "metadata": {
    "colab": {
     "base_uri": "https://localhost:8080/"
    },
    "executionInfo": {
     "elapsed": 295,
     "status": "ok",
     "timestamp": 1622711900473,
     "user": {
      "displayName": "Calvin Pang",
      "photoUrl": "https://lh3.googleusercontent.com/a-/AOh14Gjq7gHOpQwNhPFpmphSb582TO3eRzAe2LWanxCY=s64",
      "userId": "10508028720034560594"
     },
     "user_tz": -480
    },
    "id": "kXkyY-VdZNPY",
    "outputId": "afe356d8-7d41-46b1-a315-b064b0e7ef03",
    "scrolled": true
   },
   "outputs": [
    {
     "name": "stdout",
     "output_type": "stream",
     "text": [
      "/content/drive/My Drive/COCOAPI/PythonAPI\n"
     ]
    }
   ],
   "source": [
    "cd /content/drive/My Drive/COCOAPI/cocoapi/PythonAPI"
   ]
  },
  {
   "cell_type": "code",
   "execution_count": null,
   "metadata": {},
   "outputs": [],
   "source": [
    "!pip install cython pycocotools"
   ]
  },
  {
   "cell_type": "code",
   "execution_count": null,
   "metadata": {
    "colab": {
     "base_uri": "https://localhost:8080/"
    },
    "executionInfo": {
     "elapsed": 3206,
     "status": "ok",
     "timestamp": 1622711904868,
     "user": {
      "displayName": "Calvin Pang",
      "photoUrl": "https://lh3.googleusercontent.com/a-/AOh14Gjq7gHOpQwNhPFpmphSb582TO3eRzAe2LWanxCY=s64",
      "userId": "10508028720034560594"
     },
     "user_tz": -480
    },
    "id": "2dwm00xZZfOf",
    "outputId": "67269ae8-fb36-4316-c24b-ca98dc16d663"
   },
   "outputs": [
    {
     "name": "stdout",
     "output_type": "stream",
     "text": [
      "python setup.py build_ext --inplace\n",
      "running build_ext\n",
      "skipping 'pycocotools/_mask.c' Cython extension (up-to-date)\n",
      "copying build/lib.linux-x86_64-3.7/pycocotools/_mask.cpython-37m-x86_64-linux-gnu.so -> pycocotools\n",
      "rm -rf build\n"
     ]
    }
   ],
   "source": [
    "!make"
   ]
  },
  {
   "cell_type": "code",
   "execution_count": null,
   "metadata": {
    "colab": {
     "base_uri": "https://localhost:8080/"
    },
    "executionInfo": {
     "elapsed": 9210,
     "status": "ok",
     "timestamp": 1622711930625,
     "user": {
      "displayName": "Calvin Pang",
      "photoUrl": "https://lh3.googleusercontent.com/a-/AOh14Gjq7gHOpQwNhPFpmphSb582TO3eRzAe2LWanxCY=s64",
      "userId": "10508028720034560594"
     },
     "user_tz": -480
    },
    "id": "ammLJ7dnZrqr",
    "outputId": "ad5f9a0f-3cd4-4ab0-890f-95b28b5c717e"
   },
   "outputs": [
    {
     "name": "stdout",
     "output_type": "stream",
     "text": [
      "running install\n",
      "running bdist_egg\n",
      "running egg_info\n",
      "writing pycocotools.egg-info/PKG-INFO\n",
      "writing dependency_links to pycocotools.egg-info/dependency_links.txt\n",
      "writing requirements to pycocotools.egg-info/requires.txt\n",
      "writing top-level names to pycocotools.egg-info/top_level.txt\n",
      "writing manifest file 'pycocotools.egg-info/SOURCES.txt'\n",
      "installing library code to build/bdist.linux-x86_64/egg\n",
      "running install_lib\n",
      "running build_py\n",
      "creating build\n",
      "creating build/lib.linux-x86_64-3.7\n",
      "creating build/lib.linux-x86_64-3.7/pycocotools\n",
      "copying pycocotools/__init__.py -> build/lib.linux-x86_64-3.7/pycocotools\n",
      "copying pycocotools/coco.py -> build/lib.linux-x86_64-3.7/pycocotools\n",
      "copying pycocotools/cocoeval.py -> build/lib.linux-x86_64-3.7/pycocotools\n",
      "copying pycocotools/mask.py -> build/lib.linux-x86_64-3.7/pycocotools\n",
      "running build_ext\n",
      "skipping 'pycocotools/_mask.c' Cython extension (up-to-date)\n",
      "building 'pycocotools._mask' extension\n",
      "creating build/common\n",
      "creating build/temp.linux-x86_64-3.7\n",
      "creating build/temp.linux-x86_64-3.7/pycocotools\n",
      "x86_64-linux-gnu-gcc -pthread -Wno-unused-result -Wsign-compare -DNDEBUG -g -fwrapv -O2 -Wall -g -fdebug-prefix-map=/build/python3.7-OGiuun/python3.7-3.7.10=. -fstack-protector-strong -Wformat -Werror=format-security -g -fdebug-prefix-map=/build/python3.7-OGiuun/python3.7-3.7.10=. -fstack-protector-strong -Wformat -Werror=format-security -Wdate-time -D_FORTIFY_SOURCE=2 -fPIC -I/usr/local/lib/python3.7/dist-packages/numpy/core/include -I../common -I/usr/include/python3.7m -c ../common/maskApi.c -o build/temp.linux-x86_64-3.7/../common/maskApi.o -Wno-cpp -Wno-unused-function -std=c99\n",
      "\u001b[01m\u001b[K../common/maskApi.c:\u001b[m\u001b[K In function ‘\u001b[01m\u001b[KrleFrString\u001b[m\u001b[K’:\n",
      "\u001b[01m\u001b[K../common/maskApi.c:238:3:\u001b[m\u001b[K \u001b[01;35m\u001b[Kwarning: \u001b[m\u001b[K‘\u001b[01m\u001b[Kcnts\u001b[m\u001b[K’ may be used uninitialized in this function [\u001b[01;35m\u001b[K-Wmaybe-uninitialized\u001b[m\u001b[K]\n",
      "   \u001b[01;35m\u001b[KrleInit(R,h,w,m,cnts)\u001b[m\u001b[K; free(cnts);\n",
      "   \u001b[01;35m\u001b[K^~~~~~~~~~~~~~~~~~~~~\u001b[m\u001b[K\n",
      "x86_64-linux-gnu-gcc -pthread -Wno-unused-result -Wsign-compare -DNDEBUG -g -fwrapv -O2 -Wall -g -fdebug-prefix-map=/build/python3.7-OGiuun/python3.7-3.7.10=. -fstack-protector-strong -Wformat -Werror=format-security -g -fdebug-prefix-map=/build/python3.7-OGiuun/python3.7-3.7.10=. -fstack-protector-strong -Wformat -Werror=format-security -Wdate-time -D_FORTIFY_SOURCE=2 -fPIC -I/usr/local/lib/python3.7/dist-packages/numpy/core/include -I../common -I/usr/include/python3.7m -c pycocotools/_mask.c -o build/temp.linux-x86_64-3.7/pycocotools/_mask.o -Wno-cpp -Wno-unused-function -std=c99\n",
      "x86_64-linux-gnu-gcc -pthread -shared -Wl,-O1 -Wl,-Bsymbolic-functions -Wl,-Bsymbolic-functions -Wl,-z,relro -Wl,-Bsymbolic-functions -Wl,-z,relro -g -fdebug-prefix-map=/build/python3.7-OGiuun/python3.7-3.7.10=. -fstack-protector-strong -Wformat -Werror=format-security -Wdate-time -D_FORTIFY_SOURCE=2 build/temp.linux-x86_64-3.7/../common/maskApi.o build/temp.linux-x86_64-3.7/pycocotools/_mask.o -o build/lib.linux-x86_64-3.7/pycocotools/_mask.cpython-37m-x86_64-linux-gnu.so\n",
      "creating build/bdist.linux-x86_64\n",
      "creating build/bdist.linux-x86_64/egg\n",
      "creating build/bdist.linux-x86_64/egg/pycocotools\n",
      "copying build/lib.linux-x86_64-3.7/pycocotools/__init__.py -> build/bdist.linux-x86_64/egg/pycocotools\n",
      "copying build/lib.linux-x86_64-3.7/pycocotools/coco.py -> build/bdist.linux-x86_64/egg/pycocotools\n",
      "copying build/lib.linux-x86_64-3.7/pycocotools/cocoeval.py -> build/bdist.linux-x86_64/egg/pycocotools\n",
      "copying build/lib.linux-x86_64-3.7/pycocotools/mask.py -> build/bdist.linux-x86_64/egg/pycocotools\n",
      "copying build/lib.linux-x86_64-3.7/pycocotools/_mask.cpython-37m-x86_64-linux-gnu.so -> build/bdist.linux-x86_64/egg/pycocotools\n",
      "byte-compiling build/bdist.linux-x86_64/egg/pycocotools/__init__.py to __init__.cpython-37.pyc\n",
      "byte-compiling build/bdist.linux-x86_64/egg/pycocotools/coco.py to coco.cpython-37.pyc\n",
      "byte-compiling build/bdist.linux-x86_64/egg/pycocotools/cocoeval.py to cocoeval.cpython-37.pyc\n",
      "byte-compiling build/bdist.linux-x86_64/egg/pycocotools/mask.py to mask.cpython-37.pyc\n",
      "creating stub loader for pycocotools/_mask.cpython-37m-x86_64-linux-gnu.so\n",
      "byte-compiling build/bdist.linux-x86_64/egg/pycocotools/_mask.py to _mask.cpython-37.pyc\n",
      "creating build/bdist.linux-x86_64/egg/EGG-INFO\n",
      "copying pycocotools.egg-info/PKG-INFO -> build/bdist.linux-x86_64/egg/EGG-INFO\n",
      "copying pycocotools.egg-info/SOURCES.txt -> build/bdist.linux-x86_64/egg/EGG-INFO\n",
      "copying pycocotools.egg-info/dependency_links.txt -> build/bdist.linux-x86_64/egg/EGG-INFO\n",
      "copying pycocotools.egg-info/requires.txt -> build/bdist.linux-x86_64/egg/EGG-INFO\n",
      "copying pycocotools.egg-info/top_level.txt -> build/bdist.linux-x86_64/egg/EGG-INFO\n",
      "writing build/bdist.linux-x86_64/egg/EGG-INFO/native_libs.txt\n",
      "zip_safe flag not set; analyzing archive contents...\n",
      "pycocotools.__pycache__._mask.cpython-37: module references __file__\n",
      "creating 'dist/pycocotools-2.0-py3.7-linux-x86_64.egg' and adding 'build/bdist.linux-x86_64/egg' to it\n",
      "removing 'build/bdist.linux-x86_64/egg' (and everything under it)\n",
      "Processing pycocotools-2.0-py3.7-linux-x86_64.egg\n",
      "creating /root/.local/lib/python3.7/site-packages/pycocotools-2.0-py3.7-linux-x86_64.egg\n",
      "Extracting pycocotools-2.0-py3.7-linux-x86_64.egg to /root/.local/lib/python3.7/site-packages\n",
      "Adding pycocotools 2.0 to easy-install.pth file\n",
      "\n",
      "Installed /root/.local/lib/python3.7/site-packages/pycocotools-2.0-py3.7-linux-x86_64.egg\n",
      "Processing dependencies for pycocotools==2.0\n",
      "Searching for matplotlib==3.2.2\n",
      "Best match: matplotlib 3.2.2\n",
      "Adding matplotlib 3.2.2 to easy-install.pth file\n",
      "\n",
      "Using /usr/local/lib/python3.7/dist-packages\n",
      "Searching for Cython==0.29.23\n",
      "Best match: Cython 0.29.23\n",
      "Adding Cython 0.29.23 to easy-install.pth file\n",
      "Installing cygdb script to /root/.local/bin\n",
      "Installing cython script to /root/.local/bin\n",
      "Installing cythonize script to /root/.local/bin\n",
      "\n",
      "Using /usr/local/lib/python3.7/dist-packages\n",
      "Searching for setuptools==57.0.0\n",
      "Best match: setuptools 57.0.0\n",
      "Adding setuptools 57.0.0 to easy-install.pth file\n",
      "\n",
      "Using /usr/local/lib/python3.7/dist-packages\n",
      "Searching for numpy==1.19.5\n",
      "Best match: numpy 1.19.5\n",
      "Adding numpy 1.19.5 to easy-install.pth file\n",
      "Installing f2py script to /root/.local/bin\n",
      "Installing f2py3 script to /root/.local/bin\n",
      "Installing f2py3.7 script to /root/.local/bin\n",
      "\n",
      "Using /usr/local/lib/python3.7/dist-packages\n",
      "Searching for kiwisolver==1.3.1\n",
      "Best match: kiwisolver 1.3.1\n",
      "Adding kiwisolver 1.3.1 to easy-install.pth file\n",
      "\n",
      "Using /usr/local/lib/python3.7/dist-packages\n",
      "Searching for python-dateutil==2.8.1\n",
      "Best match: python-dateutil 2.8.1\n",
      "Adding python-dateutil 2.8.1 to easy-install.pth file\n",
      "\n",
      "Using /usr/local/lib/python3.7/dist-packages\n",
      "Searching for cycler==0.10.0\n",
      "Best match: cycler 0.10.0\n",
      "Adding cycler 0.10.0 to easy-install.pth file\n",
      "\n",
      "Using /usr/local/lib/python3.7/dist-packages\n",
      "Searching for pyparsing==2.4.7\n",
      "Best match: pyparsing 2.4.7\n",
      "Adding pyparsing 2.4.7 to easy-install.pth file\n",
      "\n",
      "Using /usr/local/lib/python3.7/dist-packages\n",
      "Searching for six==1.15.0\n",
      "Best match: six 1.15.0\n",
      "Adding six 1.15.0 to easy-install.pth file\n",
      "\n",
      "Using /usr/local/lib/python3.7/dist-packages\n",
      "Finished processing dependencies for pycocotools==2.0\n"
     ]
    }
   ],
   "source": [
    "!python setup.py install --user"
   ]
  },
  {
   "cell_type": "code",
   "execution_count": null,
   "metadata": {
    "colab": {
     "base_uri": "https://localhost:8080/"
    },
    "executionInfo": {
     "elapsed": 306,
     "status": "ok",
     "timestamp": 1622711933130,
     "user": {
      "displayName": "Calvin Pang",
      "photoUrl": "https://lh3.googleusercontent.com/a-/AOh14Gjq7gHOpQwNhPFpmphSb582TO3eRzAe2LWanxCY=s64",
      "userId": "10508028720034560594"
     },
     "user_tz": -480
    },
    "id": "gKWmDscPan_1",
    "outputId": "da249e86-6b01-430c-c445-3bbe6da201ab"
   },
   "outputs": [
    {
     "name": "stdout",
     "output_type": "stream",
     "text": [
      "/content/drive/My Drive/CircleNet\n"
     ]
    }
   ],
   "source": [
    "cd /content/drive/My Drive/CircleNet"
   ]
  },
  {
   "cell_type": "code",
   "execution_count": null,
   "metadata": {
    "colab": {
     "base_uri": "https://localhost:8080/"
    },
    "executionInfo": {
     "elapsed": 3933,
     "status": "ok",
     "timestamp": 1622711938795,
     "user": {
      "displayName": "Calvin Pang",
      "photoUrl": "https://lh3.googleusercontent.com/a-/AOh14Gjq7gHOpQwNhPFpmphSb582TO3eRzAe2LWanxCY=s64",
      "userId": "10508028720034560594"
     },
     "user_tz": -480
    },
    "id": "0agOijrLaf1S",
    "outputId": "43896462-3583-4a9a-cd1e-891f7cd0fc57"
   },
   "outputs": [
    {
     "name": "stdout",
     "output_type": "stream",
     "text": [
      "Requirement already satisfied: opencv-python in /usr/local/lib/python3.7/dist-packages (from -r requirements.txt (line 1)) (4.1.2.30)\n",
      "Requirement already satisfied: Cython in /usr/local/lib/python3.7/dist-packages (from -r requirements.txt (line 2)) (0.29.23)\n",
      "Requirement already satisfied: numba in /usr/local/lib/python3.7/dist-packages (from -r requirements.txt (line 3)) (0.51.2)\n",
      "Collecting progress\n",
      "  Downloading https://files.pythonhosted.org/packages/38/ef/2e887b3d2b248916fc2121889ce68af8a16aaddbe82f9ae6533c24ff0d2b/progress-1.5.tar.gz\n",
      "Requirement already satisfied: matplotlib in /usr/local/lib/python3.7/dist-packages (from -r requirements.txt (line 5)) (3.2.2)\n",
      "Requirement already satisfied: easydict in /usr/local/lib/python3.7/dist-packages (from -r requirements.txt (line 6)) (1.9)\n",
      "Requirement already satisfied: scipy in /usr/local/lib/python3.7/dist-packages (from -r requirements.txt (line 7)) (1.4.1)\n",
      "Requirement already satisfied: numpy>=1.14.5 in /usr/local/lib/python3.7/dist-packages (from opencv-python->-r requirements.txt (line 1)) (1.19.5)\n",
      "Requirement already satisfied: setuptools in /usr/local/lib/python3.7/dist-packages (from numba->-r requirements.txt (line 3)) (57.0.0)\n",
      "Requirement already satisfied: llvmlite<0.35,>=0.34.0.dev0 in /usr/local/lib/python3.7/dist-packages (from numba->-r requirements.txt (line 3)) (0.34.0)\n",
      "Requirement already satisfied: cycler>=0.10 in /usr/local/lib/python3.7/dist-packages (from matplotlib->-r requirements.txt (line 5)) (0.10.0)\n",
      "Requirement already satisfied: kiwisolver>=1.0.1 in /usr/local/lib/python3.7/dist-packages (from matplotlib->-r requirements.txt (line 5)) (1.3.1)\n",
      "Requirement already satisfied: python-dateutil>=2.1 in /usr/local/lib/python3.7/dist-packages (from matplotlib->-r requirements.txt (line 5)) (2.8.1)\n",
      "Requirement already satisfied: pyparsing!=2.0.4,!=2.1.2,!=2.1.6,>=2.0.1 in /usr/local/lib/python3.7/dist-packages (from matplotlib->-r requirements.txt (line 5)) (2.4.7)\n",
      "Requirement already satisfied: six in /usr/local/lib/python3.7/dist-packages (from cycler>=0.10->matplotlib->-r requirements.txt (line 5)) (1.15.0)\n",
      "Building wheels for collected packages: progress\n",
      "  Building wheel for progress (setup.py) ... \u001b[?25l\u001b[?25hdone\n",
      "  Created wheel for progress: filename=progress-1.5-cp37-none-any.whl size=8088 sha256=4328a8eafbe1d96815d22febac0488289eb57403cefcb7703200561cde916659\n",
      "  Stored in directory: /root/.cache/pip/wheels/6c/c8/80/32a294e3041f006c661838c05a411c7b7ffc60ff939d14e116\n",
      "Successfully built progress\n",
      "Installing collected packages: progress\n",
      "Successfully installed progress-1.5\n"
     ]
    }
   ],
   "source": [
    "!pip install -r requirements.txt"
   ]
  },
  {
   "cell_type": "code",
   "execution_count": null,
   "metadata": {
    "colab": {
     "base_uri": "https://localhost:8080/"
    },
    "executionInfo": {
     "elapsed": 359,
     "status": "ok",
     "timestamp": 1622711954847,
     "user": {
      "displayName": "Calvin Pang",
      "photoUrl": "https://lh3.googleusercontent.com/a-/AOh14Gjq7gHOpQwNhPFpmphSb582TO3eRzAe2LWanxCY=s64",
      "userId": "10508028720034560594"
     },
     "user_tz": -480
    },
    "id": "UMd2SFH-QuYl",
    "outputId": "ea4222b7-8159-4ba6-ec43-57e2277ca35a"
   },
   "outputs": [
    {
     "name": "stdout",
     "output_type": "stream",
     "text": [
      "update-alternatives: using /usr/bin/g++-6 to provide /usr/bin/g++ (g++) in auto mode\n",
      "update-alternatives: using /usr/bin/gcc-6 to provide /usr/bin/gcc (gcc) in auto mode\n"
     ]
    }
   ],
   "source": [
    "!sudo update-alternatives --install /usr/bin/g++ g++ /usr/bin/g++-6 10\n",
    "!sudo update-alternatives --install /usr/bin/gcc gcc /usr/bin/gcc-6 10"
   ]
  },
  {
   "cell_type": "code",
   "execution_count": null,
   "metadata": {
    "colab": {
     "base_uri": "https://localhost:8080/"
    },
    "executionInfo": {
     "elapsed": 939,
     "status": "ok",
     "timestamp": 1622711957113,
     "user": {
      "displayName": "Calvin Pang",
      "photoUrl": "https://lh3.googleusercontent.com/a-/AOh14Gjq7gHOpQwNhPFpmphSb582TO3eRzAe2LWanxCY=s64",
      "userId": "10508028720034560594"
     },
     "user_tz": -480
    },
    "id": "NHgugPwDvNRQ",
    "outputId": "59cf3ed1-efc2-4dae-a1f1-9b3f12d93d09"
   },
   "outputs": [
    {
     "name": "stdout",
     "output_type": "stream",
     "text": [
      "/content/drive/My Drive/CircleNet/src/lib/models/networks/DCNv2\n"
     ]
    }
   ],
   "source": [
    "%cd /content/drive/My Drive/CircleNet/src/lib/models/networks/DCNv2/"
   ]
  },
  {
   "cell_type": "code",
   "execution_count": null,
   "metadata": {
    "colab": {
     "base_uri": "https://localhost:8080/"
    },
    "executionInfo": {
     "elapsed": 15325,
     "status": "ok",
     "timestamp": 1622711973760,
     "user": {
      "displayName": "Calvin Pang",
      "photoUrl": "https://lh3.googleusercontent.com/a-/AOh14Gjq7gHOpQwNhPFpmphSb582TO3eRzAe2LWanxCY=s64",
      "userId": "10508028720034560594"
     },
     "user_tz": -480
    },
    "id": "ioo-HLb_vQWT",
    "outputId": "095f103a-7894-4c4a-8447-45900ed28d33"
   },
   "outputs": [
    {
     "name": "stdout",
     "output_type": "stream",
     "text": [
      "/content/drive/My Drive/CircleNet/src/lib/models/networks/DCNv2\n",
      "Including CUDA code.\n",
      "/content/drive/My Drive/CircleNet/src/lib/models/networks/DCNv2\n",
      "generating /tmp/tmp_ooqse71/_dcn_v2.c\n",
      "setting the current directory to '/tmp/tmp_ooqse71'\n",
      "running build_ext\n",
      "building '_dcn_v2' extension\n",
      "creating content\n",
      "creating content/drive\n",
      "creating content/drive/My Drive\n",
      "creating content/drive/My Drive/CircleNet\n",
      "creating content/drive/My Drive/CircleNet/src\n",
      "creating content/drive/My Drive/CircleNet/src/lib\n",
      "creating content/drive/My Drive/CircleNet/src/lib/models\n",
      "creating content/drive/My Drive/CircleNet/src/lib/models/networks\n",
      "creating content/drive/My Drive/CircleNet/src/lib/models/networks/DCNv2\n",
      "creating content/drive/My Drive/CircleNet/src/lib/models/networks/DCNv2/src\n",
      "x86_64-linux-gnu-gcc -pthread -Wno-unused-result -Wsign-compare -DNDEBUG -g -fwrapv -O2 -Wall -g -fdebug-prefix-map=/build/python3.7-OGiuun/python3.7-3.7.10=. -fstack-protector-strong -Wformat -Werror=format-security -g -fdebug-prefix-map=/build/python3.7-OGiuun/python3.7-3.7.10=. -fstack-protector-strong -Wformat -Werror=format-security -Wdate-time -D_FORTIFY_SOURCE=2 -fPIC -DWITH_CUDA -I/usr/local/lib/python3.7/dist-packages/torch/utils/ffi/../../lib/include -I/usr/local/lib/python3.7/dist-packages/torch/utils/ffi/../../lib/include/TH -I/usr/local/lib/python3.7/dist-packages/torch/utils/ffi/../../lib/include/THC -I/usr/local/cuda/include -I/usr/include/python3.7m -c _dcn_v2.c -o ./_dcn_v2.o -std=c99 -fopenmp -std=c99\n",
      "x86_64-linux-gnu-gcc -pthread -Wno-unused-result -Wsign-compare -DNDEBUG -g -fwrapv -O2 -Wall -g -fdebug-prefix-map=/build/python3.7-OGiuun/python3.7-3.7.10=. -fstack-protector-strong -Wformat -Werror=format-security -g -fdebug-prefix-map=/build/python3.7-OGiuun/python3.7-3.7.10=. -fstack-protector-strong -Wformat -Werror=format-security -Wdate-time -D_FORTIFY_SOURCE=2 -fPIC -DWITH_CUDA -I/usr/local/lib/python3.7/dist-packages/torch/utils/ffi/../../lib/include -I/usr/local/lib/python3.7/dist-packages/torch/utils/ffi/../../lib/include/TH -I/usr/local/lib/python3.7/dist-packages/torch/utils/ffi/../../lib/include/THC -I/usr/local/cuda/include -I/usr/include/python3.7m -c /content/drive/My Drive/CircleNet/src/lib/models/networks/DCNv2/src/dcn_v2.c -o ./content/drive/My Drive/CircleNet/src/lib/models/networks/DCNv2/src/dcn_v2.o -std=c99 -fopenmp -std=c99\n",
      "x86_64-linux-gnu-gcc -pthread -Wno-unused-result -Wsign-compare -DNDEBUG -g -fwrapv -O2 -Wall -g -fdebug-prefix-map=/build/python3.7-OGiuun/python3.7-3.7.10=. -fstack-protector-strong -Wformat -Werror=format-security -g -fdebug-prefix-map=/build/python3.7-OGiuun/python3.7-3.7.10=. -fstack-protector-strong -Wformat -Werror=format-security -Wdate-time -D_FORTIFY_SOURCE=2 -fPIC -DWITH_CUDA -I/usr/local/lib/python3.7/dist-packages/torch/utils/ffi/../../lib/include -I/usr/local/lib/python3.7/dist-packages/torch/utils/ffi/../../lib/include/TH -I/usr/local/lib/python3.7/dist-packages/torch/utils/ffi/../../lib/include/THC -I/usr/local/cuda/include -I/usr/include/python3.7m -c /content/drive/My Drive/CircleNet/src/lib/models/networks/DCNv2/src/dcn_v2_cuda.c -o ./content/drive/My Drive/CircleNet/src/lib/models/networks/DCNv2/src/dcn_v2_cuda.o -std=c99 -fopenmp -std=c99\n",
      "x86_64-linux-gnu-gcc -pthread -shared -Wl,-O1 -Wl,-Bsymbolic-functions -Wl,-Bsymbolic-functions -Wl,-z,relro -Wl,-Bsymbolic-functions -Wl,-z,relro -g -fdebug-prefix-map=/build/python3.7-OGiuun/python3.7-3.7.10=. -fstack-protector-strong -Wformat -Werror=format-security -Wdate-time -D_FORTIFY_SOURCE=2 ./_dcn_v2.o ./content/drive/My Drive/CircleNet/src/lib/models/networks/DCNv2/src/dcn_v2.o ./content/drive/My Drive/CircleNet/src/lib/models/networks/DCNv2/src/dcn_v2_cuda.o /content/drive/My Drive/CircleNet/src/lib/models/networks/DCNv2/src/cuda/dcn_v2_im2col_cuda.cu.o /content/drive/My Drive/CircleNet/src/lib/models/networks/DCNv2/src/cuda/dcn_v2_psroi_pooling_cuda.cu.o -o ./_dcn_v2.so\n",
      "Including CUDA code.\n",
      "/content/drive/My Drive/CircleNet/src/lib/models/networks/DCNv2\n",
      "generating /tmp/tmpsl4hykvn/_dcn_v2_double.c\n",
      "setting the current directory to '/tmp/tmpsl4hykvn'\n",
      "running build_ext\n",
      "building '_dcn_v2_double' extension\n",
      "creating content\n",
      "creating content/drive\n",
      "creating content/drive/My Drive\n",
      "creating content/drive/My Drive/CircleNet\n",
      "creating content/drive/My Drive/CircleNet/src\n",
      "creating content/drive/My Drive/CircleNet/src/lib\n",
      "creating content/drive/My Drive/CircleNet/src/lib/models\n",
      "creating content/drive/My Drive/CircleNet/src/lib/models/networks\n",
      "creating content/drive/My Drive/CircleNet/src/lib/models/networks/DCNv2\n",
      "creating content/drive/My Drive/CircleNet/src/lib/models/networks/DCNv2/src\n",
      "x86_64-linux-gnu-gcc -pthread -Wno-unused-result -Wsign-compare -DNDEBUG -g -fwrapv -O2 -Wall -g -fdebug-prefix-map=/build/python3.7-OGiuun/python3.7-3.7.10=. -fstack-protector-strong -Wformat -Werror=format-security -g -fdebug-prefix-map=/build/python3.7-OGiuun/python3.7-3.7.10=. -fstack-protector-strong -Wformat -Werror=format-security -Wdate-time -D_FORTIFY_SOURCE=2 -fPIC -DWITH_CUDA -I/usr/local/lib/python3.7/dist-packages/torch/utils/ffi/../../lib/include -I/usr/local/lib/python3.7/dist-packages/torch/utils/ffi/../../lib/include/TH -I/usr/local/lib/python3.7/dist-packages/torch/utils/ffi/../../lib/include/THC -I/usr/local/cuda/include -I/usr/include/python3.7m -c _dcn_v2_double.c -o ./_dcn_v2_double.o -std=c99 -fopenmp -std=c99\n",
      "x86_64-linux-gnu-gcc -pthread -Wno-unused-result -Wsign-compare -DNDEBUG -g -fwrapv -O2 -Wall -g -fdebug-prefix-map=/build/python3.7-OGiuun/python3.7-3.7.10=. -fstack-protector-strong -Wformat -Werror=format-security -g -fdebug-prefix-map=/build/python3.7-OGiuun/python3.7-3.7.10=. -fstack-protector-strong -Wformat -Werror=format-security -Wdate-time -D_FORTIFY_SOURCE=2 -fPIC -DWITH_CUDA -I/usr/local/lib/python3.7/dist-packages/torch/utils/ffi/../../lib/include -I/usr/local/lib/python3.7/dist-packages/torch/utils/ffi/../../lib/include/TH -I/usr/local/lib/python3.7/dist-packages/torch/utils/ffi/../../lib/include/THC -I/usr/local/cuda/include -I/usr/include/python3.7m -c /content/drive/My Drive/CircleNet/src/lib/models/networks/DCNv2/src/dcn_v2_double.c -o ./content/drive/My Drive/CircleNet/src/lib/models/networks/DCNv2/src/dcn_v2_double.o -std=c99 -fopenmp -std=c99\n",
      "x86_64-linux-gnu-gcc -pthread -Wno-unused-result -Wsign-compare -DNDEBUG -g -fwrapv -O2 -Wall -g -fdebug-prefix-map=/build/python3.7-OGiuun/python3.7-3.7.10=. -fstack-protector-strong -Wformat -Werror=format-security -g -fdebug-prefix-map=/build/python3.7-OGiuun/python3.7-3.7.10=. -fstack-protector-strong -Wformat -Werror=format-security -Wdate-time -D_FORTIFY_SOURCE=2 -fPIC -DWITH_CUDA -I/usr/local/lib/python3.7/dist-packages/torch/utils/ffi/../../lib/include -I/usr/local/lib/python3.7/dist-packages/torch/utils/ffi/../../lib/include/TH -I/usr/local/lib/python3.7/dist-packages/torch/utils/ffi/../../lib/include/THC -I/usr/local/cuda/include -I/usr/include/python3.7m -c /content/drive/My Drive/CircleNet/src/lib/models/networks/DCNv2/src/dcn_v2_cuda_double.c -o ./content/drive/My Drive/CircleNet/src/lib/models/networks/DCNv2/src/dcn_v2_cuda_double.o -std=c99 -fopenmp -std=c99\n",
      "x86_64-linux-gnu-gcc -pthread -shared -Wl,-O1 -Wl,-Bsymbolic-functions -Wl,-Bsymbolic-functions -Wl,-z,relro -Wl,-Bsymbolic-functions -Wl,-z,relro -g -fdebug-prefix-map=/build/python3.7-OGiuun/python3.7-3.7.10=. -fstack-protector-strong -Wformat -Werror=format-security -Wdate-time -D_FORTIFY_SOURCE=2 ./_dcn_v2_double.o ./content/drive/My Drive/CircleNet/src/lib/models/networks/DCNv2/src/dcn_v2_double.o ./content/drive/My Drive/CircleNet/src/lib/models/networks/DCNv2/src/dcn_v2_cuda_double.o /content/drive/My Drive/CircleNet/src/lib/models/networks/DCNv2/src/cuda/dcn_v2_im2col_cuda_double.cu.o /content/drive/My Drive/CircleNet/src/lib/models/networks/DCNv2/src/cuda/dcn_v2_psroi_pooling_cuda_double.cu.o -o ./_dcn_v2_double.so\n"
     ]
    }
   ],
   "source": [
    "!chmod a+x make.sh\n",
    "!./make.sh"
   ]
  },
  {
   "cell_type": "code",
   "execution_count": null,
   "metadata": {
    "colab": {
     "base_uri": "https://localhost:8080/"
    },
    "executionInfo": {
     "elapsed": 15145,
     "status": "ok",
     "timestamp": 1622711992545,
     "user": {
      "displayName": "Calvin Pang",
      "photoUrl": "https://lh3.googleusercontent.com/a-/AOh14Gjq7gHOpQwNhPFpmphSb582TO3eRzAe2LWanxCY=s64",
      "userId": "10508028720034560594"
     },
     "user_tz": -480
    },
    "id": "APoqUV50SRkz",
    "outputId": "f347bc59-2b95-4344-fa20-65ced0ea0bed"
   },
   "outputs": [
    {
     "name": "stdout",
     "output_type": "stream",
     "text": [
      "Collecting openslide-python\n",
      "\u001b[?25l  Downloading https://files.pythonhosted.org/packages/03/da/12dc0e7566ace61a5a65244220458dcb656b09cbf18ca50f3098875d97e4/openslide-python-1.1.2.tar.gz (316kB)\n",
      "\r",
      "\u001b[K     |█                               | 10kB 20.7MB/s eta 0:00:01\r",
      "\u001b[K     |██                              | 20kB 27.5MB/s eta 0:00:01\r",
      "\u001b[K     |███                             | 30kB 20.9MB/s eta 0:00:01\r",
      "\u001b[K     |████▏                           | 40kB 17.0MB/s eta 0:00:01\r",
      "\u001b[K     |█████▏                          | 51kB 9.4MB/s eta 0:00:01\r",
      "\u001b[K     |██████▏                         | 61kB 9.6MB/s eta 0:00:01\r",
      "\u001b[K     |███████▎                        | 71kB 9.6MB/s eta 0:00:01\r",
      "\u001b[K     |████████▎                       | 81kB 10.7MB/s eta 0:00:01\r",
      "\u001b[K     |█████████▎                      | 92kB 10.9MB/s eta 0:00:01\r",
      "\u001b[K     |██████████▍                     | 102kB 8.3MB/s eta 0:00:01\r",
      "\u001b[K     |███████████▍                    | 112kB 8.3MB/s eta 0:00:01\r",
      "\u001b[K     |████████████▍                   | 122kB 8.3MB/s eta 0:00:01\r",
      "\u001b[K     |█████████████▌                  | 133kB 8.3MB/s eta 0:00:01\r",
      "\u001b[K     |██████████████▌                 | 143kB 8.3MB/s eta 0:00:01\r",
      "\u001b[K     |███████████████▌                | 153kB 8.3MB/s eta 0:00:01\r",
      "\u001b[K     |████████████████▋               | 163kB 8.3MB/s eta 0:00:01\r",
      "\u001b[K     |█████████████████▋              | 174kB 8.3MB/s eta 0:00:01\r",
      "\u001b[K     |██████████████████▋             | 184kB 8.3MB/s eta 0:00:01\r",
      "\u001b[K     |███████████████████▋            | 194kB 8.3MB/s eta 0:00:01\r",
      "\u001b[K     |████████████████████▊           | 204kB 8.3MB/s eta 0:00:01\r",
      "\u001b[K     |█████████████████████▊          | 215kB 8.3MB/s eta 0:00:01\r",
      "\u001b[K     |██████████████████████▊         | 225kB 8.3MB/s eta 0:00:01\r",
      "\u001b[K     |███████████████████████▉        | 235kB 8.3MB/s eta 0:00:01\r",
      "\u001b[K     |████████████████████████▉       | 245kB 8.3MB/s eta 0:00:01\r",
      "\u001b[K     |█████████████████████████▉      | 256kB 8.3MB/s eta 0:00:01\r",
      "\u001b[K     |███████████████████████████     | 266kB 8.3MB/s eta 0:00:01\r",
      "\u001b[K     |████████████████████████████    | 276kB 8.3MB/s eta 0:00:01\r",
      "\u001b[K     |█████████████████████████████   | 286kB 8.3MB/s eta 0:00:01\r",
      "\u001b[K     |██████████████████████████████  | 296kB 8.3MB/s eta 0:00:01\r",
      "\u001b[K     |███████████████████████████████ | 307kB 8.3MB/s eta 0:00:01\r",
      "\u001b[K     |████████████████████████████████| 317kB 8.3MB/s \n",
      "\u001b[?25hRequirement already satisfied: Pillow in /usr/local/lib/python3.7/dist-packages (from openslide-python) (7.1.2)\n",
      "Building wheels for collected packages: openslide-python\n",
      "  Building wheel for openslide-python (setup.py) ... \u001b[?25l\u001b[?25hdone\n",
      "  Created wheel for openslide-python: filename=openslide_python-1.1.2-cp37-cp37m-linux_x86_64.whl size=27674 sha256=e75271ac4f5d40dbe2e215c0b1376e8de08f685826269e04320fef08c4a9ecfa\n",
      "  Stored in directory: /root/.cache/pip/wheels/6b/55/74/ba9d3dcc2c5c0f1282e08bae70df0ed57b496fb6b5c8f1adc9\n",
      "Successfully built openslide-python\n",
      "Installing collected packages: openslide-python\n",
      "Successfully installed openslide-python-1.1.2\n",
      "Reading package lists... Done\n",
      "Building dependency tree       \n",
      "Reading state information... Done\n",
      "The following packages were automatically installed and are no longer required:\n",
      "  cuda-cuobjdump-10-0 cuda-cuobjdump-10-1 cuda-cuobjdump-11-0 cuda-gdb-10-0\n",
      "  cuda-gdb-10-1 cuda-gdb-11-0 cuda-gpu-library-advisor-10-0\n",
      "  cuda-gpu-library-advisor-10-1 cuda-libraries-10-0 cuda-libraries-10-1\n",
      "  cuda-memcheck-10-0 cuda-memcheck-10-1 cuda-memcheck-11-0 cuda-nsight-10-0\n",
      "  cuda-nsight-10-1 cuda-nsight-11-0 cuda-nsight-compute-10-0\n",
      "  cuda-nsight-compute-10-1 cuda-nsight-compute-11-0 cuda-nsight-systems-10-1\n",
      "  cuda-nsight-systems-11-0 cuda-nvdisasm-10-0 cuda-nvdisasm-10-1\n",
      "  cuda-nvdisasm-11-0 cuda-nvml-dev-10-0 cuda-nvml-dev-10-1 cuda-nvprof-10-0\n",
      "  cuda-nvprof-10-1 cuda-nvprune-10-0 cuda-nvprune-10-1 cuda-nvprune-11-0\n",
      "  cuda-nvtx-10-0 cuda-nvtx-10-1 cuda-nvvp-10-0 cuda-nvvp-10-1 cuda-nvvp-11-0\n",
      "  cuda-sanitizer-11-0 cuda-sanitizer-api-10-1 cuda-visual-tools-10-0\n",
      "  cuda-visual-tools-10-1 cuda-visual-tools-11-0 libbz2-dev libgfortran-7-dev\n",
      "  libpcre2-16-0 libpcre2-32-0 libpcre2-dev libpcre2-posix0 libreadline-dev\n",
      "  nsight-compute-2021.1.1 nsight-systems-2020.3.2 nsight-systems-2021.1.3\n",
      "Use 'sudo apt autoremove' to remove them.\n",
      "The following additional packages will be installed:\n",
      "  javascript-common libjs-jquery libopenslide0 python-asn1crypto\n",
      "  python-blinker python-cffi-backend python-click python-colorama\n",
      "  python-cryptography python-enum34 python-flask python-idna python-ipaddress\n",
      "  python-itsdangerous python-jinja2 python-markupsafe python-olefile\n",
      "  python-openslide-examples python-openssl python-pil python-pkg-resources\n",
      "  python-pyinotify python-simplejson python-six python-werkzeug\n",
      "Suggested packages:\n",
      "  apache2 | lighttpd | httpd python-blinker-doc python-cryptography-doc\n",
      "  python-cryptography-vectors python-enum34-doc python-flask-doc\n",
      "  python-jinja2-doc python-openssl-doc python-openssl-dbg python-pil-doc\n",
      "  python-pil-dbg python-setuptools python-pyinotify-doc ipython python-genshi\n",
      "  python-lxml python-greenlet python-redis python-pylibmc | python-memcache\n",
      "  python-termcolor python-watchdog python-werkzeug-doc\n",
      "The following NEW packages will be installed:\n",
      "  javascript-common libjs-jquery libopenslide0 python-asn1crypto\n",
      "  python-blinker python-cffi-backend python-click python-colorama\n",
      "  python-cryptography python-enum34 python-flask python-idna python-ipaddress\n",
      "  python-itsdangerous python-jinja2 python-markupsafe python-olefile\n",
      "  python-openslide python-openslide-examples python-openssl python-pil\n",
      "  python-pkg-resources python-pyinotify python-simplejson python-six\n",
      "  python-werkzeug\n",
      "0 upgraded, 26 newly installed, 0 to remove and 46 not upgraded.\n",
      "Need to get 1,969 kB of archives.\n",
      "After this operation, 9,863 kB of additional disk space will be used.\n",
      "Get:1 http://archive.ubuntu.com/ubuntu bionic/main amd64 javascript-common all 11 [6,066 B]\n",
      "Get:2 http://archive.ubuntu.com/ubuntu bionic/main amd64 libjs-jquery all 3.2.1-1 [152 kB]\n",
      "Get:3 http://archive.ubuntu.com/ubuntu bionic/universe amd64 libopenslide0 amd64 3.4.1+dfsg-2 [79.8 kB]\n",
      "Get:4 http://archive.ubuntu.com/ubuntu bionic/main amd64 python-asn1crypto all 0.24.0-1 [72.7 kB]\n",
      "Get:5 http://archive.ubuntu.com/ubuntu bionic/main amd64 python-blinker all 1.4+dfsg1-0.1 [13.0 kB]\n",
      "Get:6 http://archive.ubuntu.com/ubuntu bionic/main amd64 python-cffi-backend amd64 1.11.5-1 [63.4 kB]\n",
      "Get:7 http://archive.ubuntu.com/ubuntu bionic/main amd64 python-colorama all 0.3.7-1 [22.6 kB]\n",
      "Get:8 http://archive.ubuntu.com/ubuntu bionic/main amd64 python-click all 6.7-3 [56.4 kB]\n",
      "Get:9 http://archive.ubuntu.com/ubuntu bionic/main amd64 python-enum34 all 1.1.6-2 [34.8 kB]\n",
      "Get:10 http://archive.ubuntu.com/ubuntu bionic/main amd64 python-idna all 2.6-1 [32.4 kB]\n",
      "Get:11 http://archive.ubuntu.com/ubuntu bionic/main amd64 python-ipaddress all 1.0.17-1 [18.2 kB]\n",
      "Get:12 http://archive.ubuntu.com/ubuntu bionic/main amd64 python-six all 1.11.0-2 [11.3 kB]\n",
      "Get:13 http://archive.ubuntu.com/ubuntu bionic-updates/main amd64 python-cryptography amd64 2.1.4-1ubuntu1.4 [276 kB]\n",
      "Get:14 http://archive.ubuntu.com/ubuntu bionic/main amd64 python-itsdangerous all 0.24+dfsg1-2 [11.9 kB]\n",
      "Get:15 http://archive.ubuntu.com/ubuntu bionic/main amd64 python-markupsafe amd64 1.0-1build1 [13.0 kB]\n",
      "Get:16 http://archive.ubuntu.com/ubuntu bionic-updates/main amd64 python-jinja2 all 2.10-1ubuntu0.18.04.1 [94.8 kB]\n",
      "Get:17 http://archive.ubuntu.com/ubuntu bionic-updates/main amd64 python-werkzeug all 0.14.1+dfsg1-1ubuntu0.1 [174 kB]\n",
      "Get:18 http://archive.ubuntu.com/ubuntu bionic-updates/main amd64 python-flask all 0.12.2-3ubuntu0.1 [62.4 kB]\n",
      "Get:19 http://archive.ubuntu.com/ubuntu bionic/main amd64 python-olefile all 0.45.1-1 [33.2 kB]\n",
      "Get:20 http://archive.ubuntu.com/ubuntu bionic-updates/main amd64 python-pil amd64 5.1.0-1ubuntu0.6 [302 kB]\n",
      "Get:21 http://archive.ubuntu.com/ubuntu bionic/universe amd64 python-openslide amd64 1.1.1-2ubuntu4 [16.3 kB]\n",
      "Get:22 http://archive.ubuntu.com/ubuntu bionic/universe amd64 python-openslide-examples all 1.1.1-2ubuntu4 [168 kB]\n",
      "Get:23 http://archive.ubuntu.com/ubuntu bionic/main amd64 python-openssl all 17.5.0-1ubuntu1 [41.3 kB]\n",
      "Get:24 http://archive.ubuntu.com/ubuntu bionic/main amd64 python-pkg-resources all 39.0.1-2 [128 kB]\n",
      "Get:25 http://archive.ubuntu.com/ubuntu bionic/main amd64 python-pyinotify all 0.9.6-1 [24.6 kB]\n",
      "Get:26 http://archive.ubuntu.com/ubuntu bionic/main amd64 python-simplejson amd64 3.13.2-1 [61.2 kB]\n",
      "Fetched 1,969 kB in 1s (1,314 kB/s)\n",
      "dpkg-preconfigure: unable to re-open stdin: No such file or directory\n",
      "Selecting previously unselected package javascript-common.\n",
      "(Reading database ... 149707 files and directories currently installed.)\n",
      "Preparing to unpack .../00-javascript-common_11_all.deb ...\n",
      "Unpacking javascript-common (11) ...\n",
      "Selecting previously unselected package libjs-jquery.\n",
      "Preparing to unpack .../01-libjs-jquery_3.2.1-1_all.deb ...\n",
      "Unpacking libjs-jquery (3.2.1-1) ...\n",
      "Selecting previously unselected package libopenslide0.\n",
      "Preparing to unpack .../02-libopenslide0_3.4.1+dfsg-2_amd64.deb ...\n",
      "Unpacking libopenslide0 (3.4.1+dfsg-2) ...\n",
      "Selecting previously unselected package python-asn1crypto.\n",
      "Preparing to unpack .../03-python-asn1crypto_0.24.0-1_all.deb ...\n",
      "Unpacking python-asn1crypto (0.24.0-1) ...\n",
      "Selecting previously unselected package python-blinker.\n",
      "Preparing to unpack .../04-python-blinker_1.4+dfsg1-0.1_all.deb ...\n",
      "Unpacking python-blinker (1.4+dfsg1-0.1) ...\n",
      "Selecting previously unselected package python-cffi-backend.\n",
      "Preparing to unpack .../05-python-cffi-backend_1.11.5-1_amd64.deb ...\n",
      "Unpacking python-cffi-backend (1.11.5-1) ...\n",
      "Selecting previously unselected package python-colorama.\n",
      "Preparing to unpack .../06-python-colorama_0.3.7-1_all.deb ...\n",
      "Unpacking python-colorama (0.3.7-1) ...\n",
      "Selecting previously unselected package python-click.\n",
      "Preparing to unpack .../07-python-click_6.7-3_all.deb ...\n",
      "Unpacking python-click (6.7-3) ...\n",
      "Selecting previously unselected package python-enum34.\n",
      "Preparing to unpack .../08-python-enum34_1.1.6-2_all.deb ...\n",
      "Unpacking python-enum34 (1.1.6-2) ...\n",
      "Selecting previously unselected package python-idna.\n",
      "Preparing to unpack .../09-python-idna_2.6-1_all.deb ...\n",
      "Unpacking python-idna (2.6-1) ...\n",
      "Selecting previously unselected package python-ipaddress.\n",
      "Preparing to unpack .../10-python-ipaddress_1.0.17-1_all.deb ...\n",
      "Unpacking python-ipaddress (1.0.17-1) ...\n",
      "Selecting previously unselected package python-six.\n",
      "Preparing to unpack .../11-python-six_1.11.0-2_all.deb ...\n",
      "Unpacking python-six (1.11.0-2) ...\n",
      "Selecting previously unselected package python-cryptography.\n",
      "Preparing to unpack .../12-python-cryptography_2.1.4-1ubuntu1.4_amd64.deb ...\n",
      "Unpacking python-cryptography (2.1.4-1ubuntu1.4) ...\n",
      "Selecting previously unselected package python-itsdangerous.\n",
      "Preparing to unpack .../13-python-itsdangerous_0.24+dfsg1-2_all.deb ...\n",
      "Unpacking python-itsdangerous (0.24+dfsg1-2) ...\n",
      "Selecting previously unselected package python-markupsafe.\n",
      "Preparing to unpack .../14-python-markupsafe_1.0-1build1_amd64.deb ...\n",
      "Unpacking python-markupsafe (1.0-1build1) ...\n",
      "Selecting previously unselected package python-jinja2.\n",
      "Preparing to unpack .../15-python-jinja2_2.10-1ubuntu0.18.04.1_all.deb ...\n",
      "Unpacking python-jinja2 (2.10-1ubuntu0.18.04.1) ...\n",
      "Selecting previously unselected package python-werkzeug.\n",
      "Preparing to unpack .../16-python-werkzeug_0.14.1+dfsg1-1ubuntu0.1_all.deb ...\n",
      "Unpacking python-werkzeug (0.14.1+dfsg1-1ubuntu0.1) ...\n",
      "Selecting previously unselected package python-flask.\n",
      "Preparing to unpack .../17-python-flask_0.12.2-3ubuntu0.1_all.deb ...\n",
      "Unpacking python-flask (0.12.2-3ubuntu0.1) ...\n",
      "Selecting previously unselected package python-olefile.\n",
      "Preparing to unpack .../18-python-olefile_0.45.1-1_all.deb ...\n",
      "Unpacking python-olefile (0.45.1-1) ...\n",
      "Selecting previously unselected package python-pil:amd64.\n",
      "Preparing to unpack .../19-python-pil_5.1.0-1ubuntu0.6_amd64.deb ...\n",
      "Unpacking python-pil:amd64 (5.1.0-1ubuntu0.6) ...\n",
      "Selecting previously unselected package python-openslide.\n",
      "Preparing to unpack .../20-python-openslide_1.1.1-2ubuntu4_amd64.deb ...\n",
      "Unpacking python-openslide (1.1.1-2ubuntu4) ...\n",
      "Selecting previously unselected package python-openslide-examples.\n",
      "Preparing to unpack .../21-python-openslide-examples_1.1.1-2ubuntu4_all.deb ...\n",
      "Unpacking python-openslide-examples (1.1.1-2ubuntu4) ...\n",
      "Selecting previously unselected package python-openssl.\n",
      "Preparing to unpack .../22-python-openssl_17.5.0-1ubuntu1_all.deb ...\n",
      "Unpacking python-openssl (17.5.0-1ubuntu1) ...\n",
      "Selecting previously unselected package python-pkg-resources.\n",
      "Preparing to unpack .../23-python-pkg-resources_39.0.1-2_all.deb ...\n",
      "Unpacking python-pkg-resources (39.0.1-2) ...\n",
      "Selecting previously unselected package python-pyinotify.\n",
      "Preparing to unpack .../24-python-pyinotify_0.9.6-1_all.deb ...\n",
      "Unpacking python-pyinotify (0.9.6-1) ...\n",
      "Selecting previously unselected package python-simplejson.\n",
      "Preparing to unpack .../25-python-simplejson_3.13.2-1_amd64.deb ...\n",
      "Unpacking python-simplejson (3.13.2-1) ...\n",
      "Setting up python-idna (2.6-1) ...\n",
      "Setting up python-simplejson (3.13.2-1) ...\n",
      "Setting up libjs-jquery (3.2.1-1) ...\n",
      "Setting up python-asn1crypto (0.24.0-1) ...\n",
      "Setting up python-blinker (1.4+dfsg1-0.1) ...\n",
      "Setting up python-colorama (0.3.7-1) ...\n",
      "Setting up python-pkg-resources (39.0.1-2) ...\n",
      "Setting up python-markupsafe (1.0-1build1) ...\n",
      "Setting up python-werkzeug (0.14.1+dfsg1-1ubuntu0.1) ...\n",
      "Setting up python-pyinotify (0.9.6-1) ...\n",
      "Setting up python-cffi-backend (1.11.5-1) ...\n",
      "Setting up python-six (1.11.0-2) ...\n",
      "Setting up libopenslide0 (3.4.1+dfsg-2) ...\n",
      "Setting up python-enum34 (1.1.6-2) ...\n",
      "Setting up python-olefile (0.45.1-1) ...\n",
      "Setting up javascript-common (11) ...\n",
      "Setting up python-itsdangerous (0.24+dfsg1-2) ...\n",
      "Setting up python-ipaddress (1.0.17-1) ...\n",
      "Setting up python-pil:amd64 (5.1.0-1ubuntu0.6) ...\n",
      "Setting up python-jinja2 (2.10-1ubuntu0.18.04.1) ...\n",
      "Setting up python-click (6.7-3) ...\n",
      "Setting up python-openslide (1.1.1-2ubuntu4) ...\n",
      "Setting up python-cryptography (2.1.4-1ubuntu1.4) ...\n",
      "Setting up python-flask (0.12.2-3ubuntu0.1) ...\n",
      "Setting up python-openssl (17.5.0-1ubuntu1) ...\n",
      "Setting up python-openslide-examples (1.1.1-2ubuntu4) ...\n",
      "Processing triggers for libc-bin (2.27-3ubuntu1.2) ...\n"
     ]
    }
   ],
   "source": [
    "!pip install openslide-python\n",
    "!sudo apt install python-openslide"
   ]
  },
  {
   "cell_type": "code",
   "execution_count": null,
   "metadata": {
    "colab": {
     "base_uri": "https://localhost:8080/"
    },
    "executionInfo": {
     "elapsed": 2648,
     "status": "ok",
     "timestamp": 1622712026463,
     "user": {
      "displayName": "Calvin Pang",
      "photoUrl": "https://lh3.googleusercontent.com/a-/AOh14Gjq7gHOpQwNhPFpmphSb582TO3eRzAe2LWanxCY=s64",
      "userId": "10508028720034560594"
     },
     "user_tz": -480
    },
    "id": "Hgc4mNCzaIfH",
    "outputId": "ad266ddb-eddb-4fb6-9847-075e10ec5ac8"
   },
   "outputs": [
    {
     "name": "stdout",
     "output_type": "stream",
     "text": [
      "Collecting xmltodict\n",
      "  Downloading https://files.pythonhosted.org/packages/28/fd/30d5c1d3ac29ce229f6bdc40bbc20b28f716e8b363140c26eff19122d8a5/xmltodict-0.12.0-py2.py3-none-any.whl\n",
      "Installing collected packages: xmltodict\n",
      "Successfully installed xmltodict-0.12.0\n"
     ]
    }
   ],
   "source": [
    "!pip install xmltodict"
   ]
  },
  {
   "cell_type": "code",
   "execution_count": null,
   "metadata": {
    "colab": {
     "base_uri": "https://localhost:8080/"
    },
    "executionInfo": {
     "elapsed": 2906,
     "status": "ok",
     "timestamp": 1622712030949,
     "user": {
      "displayName": "Calvin Pang",
      "photoUrl": "https://lh3.googleusercontent.com/a-/AOh14Gjq7gHOpQwNhPFpmphSb582TO3eRzAe2LWanxCY=s64",
      "userId": "10508028720034560594"
     },
     "user_tz": -480
    },
    "id": "ImP6XFNOayij",
    "outputId": "d23a1580-5a40-4984-e3cc-4dec369aa083"
   },
   "outputs": [
    {
     "name": "stdout",
     "output_type": "stream",
     "text": [
      "Collecting bbox\n",
      "  Downloading https://files.pythonhosted.org/packages/f1/bf/6ce00e48819321f51fd46c2956f6d503f487b35c9b9d808bacb477ca83a5/bbox-0.9.2-py3-none-any.whl\n",
      "Requirement already satisfied: numpy<2.0.0,>=1.18.2 in /usr/local/lib/python3.7/dist-packages (from bbox) (1.19.5)\n",
      "Collecting pyquaternion<0.10.0,>=0.9.5\n",
      "  Downloading https://files.pythonhosted.org/packages/49/b3/d8482e8cacc8ea15a356efea13d22ce1c5914a9ee36622ba250523240bf2/pyquaternion-0.9.9-py3-none-any.whl\n",
      "Installing collected packages: pyquaternion, bbox\n",
      "Successfully installed bbox-0.9.2 pyquaternion-0.9.9\n"
     ]
    }
   ],
   "source": [
    "!pip install bbox"
   ]
  },
  {
   "cell_type": "code",
   "execution_count": null,
   "metadata": {},
   "outputs": [],
   "source": [
    "%cd /content/drive/MyDrive/CircleNet/src/lib/external"
   ]
  },
  {
   "cell_type": "code",
   "execution_count": null,
   "metadata": {},
   "outputs": [],
   "source": [
    "!make"
   ]
  },
  {
   "cell_type": "code",
   "execution_count": null,
   "metadata": {
    "colab": {
     "base_uri": "https://localhost:8080/"
    },
    "executionInfo": {
     "elapsed": 336,
     "status": "ok",
     "timestamp": 1622712656912,
     "user": {
      "displayName": "Calvin Pang",
      "photoUrl": "https://lh3.googleusercontent.com/a-/AOh14Gjq7gHOpQwNhPFpmphSb582TO3eRzAe2LWanxCY=s64",
      "userId": "10508028720034560594"
     },
     "user_tz": -480
    },
    "id": "Rw_Q_qbjGzVs",
    "outputId": "6dea0ab1-0d4e-42a2-e59b-3732d020ed4c",
    "scrolled": true
   },
   "outputs": [
    {
     "name": "stdout",
     "output_type": "stream",
     "text": [
      "/content/drive/My Drive/CircleNet/src\n"
     ]
    }
   ],
   "source": [
    "%cd /content/drive/My\\ Drive/CircleNet/src"
   ]
  },
  {
   "cell_type": "code",
   "execution_count": null,
   "metadata": {},
   "outputs": [],
   "source": [
    "!pip install Pillow==6.2"
   ]
  },
  {
   "cell_type": "code",
   "execution_count": null,
   "metadata": {
    "colab": {
     "base_uri": "https://localhost:8080/"
    },
    "executionInfo": {
     "elapsed": 60559,
     "status": "ok",
     "timestamp": 1622621193481,
     "user": {
      "displayName": "Calvin Pang",
      "photoUrl": "https://lh3.googleusercontent.com/a-/AOh14Gjq7gHOpQwNhPFpmphSb582TO3eRzAe2LWanxCY=s64",
      "userId": "10508028720034560594"
     },
     "user_tz": -480
    },
    "id": "a2lw-oPfHOG_",
    "outputId": "ed450318-acec-46e4-9f70-f25bf0c19bed"
   },
   "outputs": [
    {
     "name": "stdout",
     "output_type": "stream",
     "text": [
      "Fix size testing.\n",
      "training chunk_sizes: [32]\n",
      "The output will be saved to  /content/drive/My Drive/CircleNet/src/lib/../../exp/circledet/default\n",
      "heads {'hm': 1, 'cl': 1, 'reg': 2}\n",
      "Creating model...\n",
      "Downloading: \"http://dl.yf.io/dla/models/imagenet/dla34-ba72cf86.pth\" to /root/.torch/models/dla34-ba72cf86.pth\n",
      "100% 63228658/63228658 [00:04<00:00, 12694611.09it/s]\n",
      "loaded /content/drive/My Drive/CircleNet/trained_model/model_10.pth, epoch 10\n",
      "run_detection_for_scn.py:95: DeprecationWarning: `np.int` is a deprecated alias for the builtin `int`. To silence this warning, use `int` by itself. Doing this will not modify any behavior and is safe. When replacing `np.int`, you may wish to use e.g. `np.int64` or `np.int32` to specify the precision. If you wish to review your current use, check the release note link for additional information.\n",
      "Deprecated in NumPy 1.20; for more details and guidance: https://numpy.org/devdocs/release/1.20.0-notes.html#deprecations\n",
      "  start_x = np.int(simg.properties['openslide.bounds-x'])\n",
      "run_detection_for_scn.py:96: DeprecationWarning: `np.int` is a deprecated alias for the builtin `int`. To silence this warning, use `int` by itself. Doing this will not modify any behavior and is safe. When replacing `np.int`, you may wish to use e.g. `np.int64` or `np.int32` to specify the precision. If you wish to review your current use, check the release note link for additional information.\n",
      "Deprecated in NumPy 1.20; for more details and guidance: https://numpy.org/devdocs/release/1.20.0-notes.html#deprecations\n",
      "  start_y = np.int(simg.properties['openslide.bounds-y'])\n",
      "run_detection_for_scn.py:97: DeprecationWarning: `np.int` is a deprecated alias for the builtin `int`. To silence this warning, use `int` by itself. Doing this will not modify any behavior and is safe. When replacing `np.int`, you may wish to use e.g. `np.int64` or `np.int32` to specify the precision. If you wish to review your current use, check the release note link for additional information.\n",
      "Deprecated in NumPy 1.20; for more details and guidance: https://numpy.org/devdocs/release/1.20.0-notes.html#deprecations\n",
      "  width_x = np.int(simg.properties['openslide.bounds-width'])\n",
      "run_detection_for_scn.py:98: DeprecationWarning: `np.int` is a deprecated alias for the builtin `int`. To silence this warning, use `int` by itself. Doing this will not modify any behavior and is safe. When replacing `np.int`, you may wish to use e.g. `np.int64` or `np.int32` to specify the precision. If you wish to review your current use, check the release note link for additional information.\n",
      "Deprecated in NumPy 1.20; for more details and guidance: https://numpy.org/devdocs/release/1.20.0-notes.html#deprecations\n",
      "  height_y = np.int(simg.properties['openslide.bounds-height'])\n",
      "run_detection_for_scn.py:113: DeprecationWarning: `np.int` is a deprecated alias for the builtin `int`. To silence this warning, use `int` by itself. Doing this will not modify any behavior and is safe. When replacing `np.int`, you may wish to use e.g. `np.int64` or `np.int32` to specify the precision. If you wish to review your current use, check the release note link for additional information.\n",
      "Deprecated in NumPy 1.20; for more details and guidance: https://numpy.org/devdocs/release/1.20.0-notes.html#deprecations\n",
      "  num_patch_x_lv = np.int(np.ceil(width_x/down_rate/input_width))\n",
      "run_detection_for_scn.py:114: DeprecationWarning: `np.int` is a deprecated alias for the builtin `int`. To silence this warning, use `int` by itself. Doing this will not modify any behavior and is safe. When replacing `np.int`, you may wish to use e.g. `np.int64` or `np.int32` to specify the precision. If you wish to review your current use, check the release note link for additional information.\n",
      "Deprecated in NumPy 1.20; for more details and guidance: https://numpy.org/devdocs/release/1.20.0-notes.html#deprecations\n",
      "  num_patch_y_lv = np.int(np.ceil(height_y/down_rate/input_height))\n",
      "run_detection_for_scn.py:155: DeprecationWarning: `np.int` is a deprecated alias for the builtin `int`. To silence this warning, use `int` by itself. Doing this will not modify any behavior and is safe. When replacing `np.int`, you may wish to use e.g. `np.int64` or `np.int32` to specify the precision. If you wish to review your current use, check the release note link for additional information.\n",
      "Deprecated in NumPy 1.20; for more details and guidance: https://numpy.org/devdocs/release/1.20.0-notes.html#deprecations\n",
      "  low_res_offset_x = np.int(xi * input_width / 2)\n",
      "run_detection_for_scn.py:156: DeprecationWarning: `np.int` is a deprecated alias for the builtin `int`. To silence this warning, use `int` by itself. Doing this will not modify any behavior and is safe. When replacing `np.int`, you may wish to use e.g. `np.int64` or `np.int32` to specify the precision. If you wish to review your current use, check the release note link for additional information.\n",
      "Deprecated in NumPy 1.20; for more details and guidance: https://numpy.org/devdocs/release/1.20.0-notes.html#deprecations\n",
      "  low_res_offset_y = np.int(yi * input_height / 2)\n",
      "run_detection_for_scn.py:158: DeprecationWarning: `np.int` is a deprecated alias for the builtin `int`. To silence this warning, use `int` by itself. Doing this will not modify any behavior and is safe. When replacing `np.int`, you may wish to use e.g. `np.int64` or `np.int32` to specify the precision. If you wish to review your current use, check the release note link for additional information.\n",
      "Deprecated in NumPy 1.20; for more details and guidance: https://numpy.org/devdocs/release/1.20.0-notes.html#deprecations\n",
      "  patch_start_x = start_x + np.int(low_res_offset_x * down_rate)\n",
      "run_detection_for_scn.py:159: DeprecationWarning: `np.int` is a deprecated alias for the builtin `int`. To silence this warning, use `int` by itself. Doing this will not modify any behavior and is safe. When replacing `np.int`, you may wish to use e.g. `np.int64` or `np.int32` to specify the precision. If you wish to review your current use, check the release note link for additional information.\n",
      "Deprecated in NumPy 1.20; for more details and guidance: https://numpy.org/devdocs/release/1.20.0-notes.html#deprecations\n",
      "  patch_start_y = start_y + np.int(low_res_offset_y * down_rate)\n",
      "run_detection_for_scn.py:272: DeprecationWarning: `np.int` is a deprecated alias for the builtin `int`. To silence this warning, use `int` by itself. Doing this will not modify any behavior and is safe. When replacing `np.int`, you may wish to use e.g. `np.int64` or `np.int32` to specify the precision. If you wish to review your current use, check the release note link for additional information.\n",
      "Deprecated in NumPy 1.20; for more details and guidance: https://numpy.org/devdocs/release/1.20.0-notes.html#deprecations\n",
      "  patch_start_x = np.int(res_strs[3])\n",
      "run_detection_for_scn.py:273: DeprecationWarning: `np.int` is a deprecated alias for the builtin `int`. To silence this warning, use `int` by itself. Doing this will not modify any behavior and is safe. When replacing `np.int`, you may wish to use e.g. `np.int64` or `np.int32` to specify the precision. If you wish to review your current use, check the release note link for additional information.\n",
      "Deprecated in NumPy 1.20; for more details and guidance: https://numpy.org/devdocs/release/1.20.0-notes.html#deprecations\n",
      "  patch_start_y = np.int(res_strs[4])\n",
      " 1/261 tot 0.377s |load 0.016s |pre 0.332s |net 0.024s |dec 0.003s |post 0.001s |merge 0.000s |\n",
      " 2/261 tot 0.039s |load 0.007s |pre 0.011s |net 0.021s |dec 0.001s |post 0.001s |merge 0.000s |\n",
      " 3/261 tot 0.038s |load 0.007s |pre 0.010s |net 0.020s |dec 0.001s |post 0.001s |merge 0.000s |\n",
      " 4/261 tot 0.037s |load 0.006s |pre 0.009s |net 0.020s |dec 0.001s |post 0.001s |merge 0.000s |\n",
      " 5/261 tot 0.038s |load 0.006s |pre 0.009s |net 0.020s |dec 0.001s |post 0.001s |merge 0.000s |\n",
      " 6/261 tot 0.038s |load 0.007s |pre 0.010s |net 0.020s |dec 0.001s |post 0.001s |merge 0.000s |\n",
      " 7/261 tot 0.037s |load 0.007s |pre 0.009s |net 0.020s |dec 0.001s |post 0.001s |merge 0.000s |\n",
      " 8/261 tot 0.037s |load 0.007s |pre 0.009s |net 0.019s |dec 0.001s |post 0.001s |merge 0.000s |\n",
      " 9/261 tot 0.039s |load 0.009s |pre 0.010s |net 0.019s |dec 0.001s |post 0.001s |merge 0.000s |\n",
      " 10/261 tot 0.037s |load 0.007s |pre 0.010s |net 0.019s |dec 0.001s |post 0.001s |merge 0.000s |\n",
      " 11/261 tot 0.038s |load 0.007s |pre 0.010s |net 0.019s |dec 0.001s |post 0.001s |merge 0.000s |\n",
      " 12/261 tot 0.036s |load 0.007s |pre 0.009s |net 0.019s |dec 0.001s |post 0.001s |merge 0.000s |\n",
      " 13/261 tot 0.035s |load 0.006s |pre 0.009s |net 0.019s |dec 0.001s |post 0.001s |merge 0.000s |\n",
      " 14/261 tot 0.034s |load 0.004s |pre 0.009s |net 0.019s |dec 0.001s |post 0.001s |merge 0.000s |\n",
      " 15/261 tot 0.034s |load 0.005s |pre 0.009s |net 0.019s |dec 0.001s |post 0.001s |merge 0.000s |\n",
      " 16/261 tot 0.036s |load 0.007s |pre 0.009s |net 0.019s |dec 0.001s |post 0.001s |merge 0.000s |\n",
      " 17/261 tot 0.041s |load 0.010s |pre 0.009s |net 0.019s |dec 0.001s |post 0.001s |merge 0.000s |\n",
      " 18/261 tot 0.039s |load 0.009s |pre 0.009s |net 0.019s |dec 0.001s |post 0.001s |merge 0.000s |\n",
      " 19/261 tot 0.039s |load 0.009s |pre 0.010s |net 0.019s |dec 0.001s |post 0.001s |merge 0.000s |\n",
      " 20/261 tot 0.037s |load 0.008s |pre 0.010s |net 0.019s |dec 0.001s |post 0.001s |merge 0.000s |\n",
      " 21/261 tot 0.037s |load 0.008s |pre 0.009s |net 0.019s |dec 0.001s |post 0.001s |merge 0.000s |\n",
      " 22/261 tot 0.038s |load 0.009s |pre 0.009s |net 0.019s |dec 0.001s |post 0.001s |merge 0.000s |\n",
      " 23/261 tot 0.038s |load 0.009s |pre 0.009s |net 0.019s |dec 0.001s |post 0.001s |merge 0.000s |\n",
      " 24/261 tot 0.038s |load 0.008s |pre 0.009s |net 0.019s |dec 0.001s |post 0.001s |merge 0.000s |\n",
      " 25/261 tot 0.041s |load 0.009s |pre 0.009s |net 0.019s |dec 0.002s |post 0.002s |merge 0.000s |\n",
      " 26/261 tot 0.067s |load 0.023s |pre 0.012s |net 0.030s |dec 0.001s |post 0.001s |merge 0.000s |\n",
      " 27/261 tot 0.070s |load 0.029s |pre 0.018s |net 0.021s |dec 0.001s |post 0.001s |merge 0.000s |\n",
      " 28/261 tot 0.052s |load 0.015s |pre 0.015s |net 0.020s |dec 0.001s |post 0.001s |merge 0.000s |\n",
      " 29/261 tot 0.049s |load 0.008s |pre 0.015s |net 0.023s |dec 0.001s |post 0.001s |merge 0.000s |\n",
      " 30/261 tot 0.049s |load 0.011s |pre 0.015s |net 0.022s |dec 0.001s |post 0.001s |merge 0.000s |\n",
      " 31/261 tot 0.037s |load 0.008s |pre 0.010s |net 0.019s |dec 0.001s |post 0.001s |merge 0.000s |\n",
      " 32/261 tot 0.037s |load 0.007s |pre 0.010s |net 0.019s |dec 0.001s |post 0.001s |merge 0.000s |\n",
      " 33/261 tot 0.038s |load 0.008s |pre 0.010s |net 0.019s |dec 0.001s |post 0.001s |merge 0.000s |\n",
      " 34/261 tot 0.038s |load 0.008s |pre 0.009s |net 0.019s |dec 0.001s |post 0.001s |merge 0.000s |\n",
      " 35/261 tot 0.039s |load 0.008s |pre 0.010s |net 0.019s |dec 0.001s |post 0.001s |merge 0.000s |\n",
      " 36/261 tot 0.038s |load 0.008s |pre 0.010s |net 0.019s |dec 0.001s |post 0.001s |merge 0.000s |\n",
      " 37/261 tot 0.038s |load 0.008s |pre 0.010s |net 0.019s |dec 0.001s |post 0.001s |merge 0.000s |\n",
      " 38/261 tot 0.040s |load 0.010s |pre 0.010s |net 0.019s |dec 0.001s |post 0.001s |merge 0.000s |\n",
      " 39/261 tot 0.038s |load 0.008s |pre 0.010s |net 0.019s |dec 0.001s |post 0.001s |merge 0.000s |\n",
      " 40/261 tot 0.037s |load 0.008s |pre 0.010s |net 0.019s |dec 0.001s |post 0.001s |merge 0.000s |\n",
      " 41/261 tot 0.037s |load 0.007s |pre 0.009s |net 0.019s |dec 0.001s |post 0.001s |merge 0.000s |\n",
      " 42/261 tot 0.035s |load 0.006s |pre 0.009s |net 0.019s |dec 0.001s |post 0.001s |merge 0.000s |\n",
      " 43/261 tot 0.035s |load 0.005s |pre 0.010s |net 0.019s |dec 0.001s |post 0.001s |merge 0.000s |\n",
      " 44/261 tot 0.039s |load 0.008s |pre 0.011s |net 0.019s |dec 0.001s |post 0.001s |merge 0.000s |\n",
      " 45/261 tot 0.039s |load 0.008s |pre 0.010s |net 0.019s |dec 0.001s |post 0.001s |merge 0.000s |\n",
      " 46/261 tot 0.040s |load 0.008s |pre 0.009s |net 0.019s |dec 0.002s |post 0.001s |merge 0.000s |\n",
      " 47/261 tot 0.054s |load 0.019s |pre 0.015s |net 0.019s |dec 0.001s |post 0.001s |merge 0.000s |\n",
      " 48/261 tot 0.038s |load 0.008s |pre 0.010s |net 0.019s |dec 0.001s |post 0.001s |merge 0.000s |\n",
      " 49/261 tot 0.038s |load 0.008s |pre 0.009s |net 0.019s |dec 0.001s |post 0.001s |merge 0.000s |\n",
      " 50/261 tot 0.042s |load 0.011s |pre 0.011s |net 0.019s |dec 0.001s |post 0.001s |merge 0.000s |\n",
      " 51/261 tot 0.038s |load 0.008s |pre 0.009s |net 0.019s |dec 0.001s |post 0.001s |merge 0.000s |\n",
      " 52/261 tot 0.038s |load 0.008s |pre 0.009s |net 0.019s |dec 0.001s |post 0.001s |merge 0.000s |\n",
      " 53/261 tot 0.038s |load 0.009s |pre 0.009s |net 0.019s |dec 0.001s |post 0.001s |merge 0.000s |\n",
      " 54/261 tot 0.038s |load 0.009s |pre 0.009s |net 0.019s |dec 0.001s |post 0.001s |merge 0.000s |\n",
      " 55/261 tot 0.038s |load 0.008s |pre 0.010s |net 0.019s |dec 0.001s |post 0.001s |merge 0.000s |\n",
      " 56/261 tot 0.037s |load 0.007s |pre 0.009s |net 0.019s |dec 0.001s |post 0.001s |merge 0.000s |\n",
      " 57/261 tot 0.036s |load 0.007s |pre 0.009s |net 0.019s |dec 0.001s |post 0.001s |merge 0.000s |\n",
      " 58/261 tot 0.035s |load 0.005s |pre 0.009s |net 0.019s |dec 0.001s |post 0.001s |merge 0.000s |\n",
      " 59/261 tot 0.039s |load 0.009s |pre 0.010s |net 0.019s |dec 0.001s |post 0.001s |merge 0.000s |\n",
      " 60/261 tot 0.038s |load 0.008s |pre 0.009s |net 0.019s |dec 0.001s |post 0.001s |merge 0.000s |\n",
      " 61/261 tot 0.040s |load 0.011s |pre 0.010s |net 0.019s |dec 0.001s |post 0.001s |merge 0.000s |\n",
      " 62/261 tot 0.038s |load 0.008s |pre 0.009s |net 0.019s |dec 0.001s |post 0.001s |merge 0.000s |\n",
      " 63/261 tot 0.037s |load 0.008s |pre 0.009s |net 0.019s |dec 0.001s |post 0.001s |merge 0.000s |\n",
      " 64/261 tot 0.038s |load 0.008s |pre 0.010s |net 0.019s |dec 0.001s |post 0.001s |merge 0.000s |\n",
      " 65/261 tot 0.039s |load 0.008s |pre 0.011s |net 0.019s |dec 0.001s |post 0.001s |merge 0.000s |\n",
      " 66/261 tot 0.038s |load 0.008s |pre 0.010s |net 0.019s |dec 0.001s |post 0.001s |merge 0.000s |\n",
      " 67/261 tot 0.038s |load 0.008s |pre 0.009s |net 0.019s |dec 0.001s |post 0.001s |merge 0.000s |\n",
      " 68/261 tot 0.038s |load 0.009s |pre 0.009s |net 0.019s |dec 0.001s |post 0.001s |merge 0.000s |\n",
      " 69/261 tot 0.039s |load 0.009s |pre 0.010s |net 0.019s |dec 0.001s |post 0.001s |merge 0.000s |\n",
      " 70/261 tot 0.038s |load 0.008s |pre 0.010s |net 0.019s |dec 0.001s |post 0.001s |merge 0.000s |\n",
      " 71/261 tot 0.039s |load 0.009s |pre 0.011s |net 0.019s |dec 0.001s |post 0.001s |merge 0.000s |\n",
      " 72/261 tot 0.034s |load 0.005s |pre 0.009s |net 0.019s |dec 0.001s |post 0.001s |merge 0.000s |\n",
      " 73/261 tot 0.039s |load 0.010s |pre 0.009s |net 0.019s |dec 0.001s |post 0.001s |merge 0.000s |\n",
      " 74/261 tot 0.038s |load 0.008s |pre 0.010s |net 0.019s |dec 0.001s |post 0.001s |merge 0.000s |\n",
      " 75/261 tot 0.038s |load 0.009s |pre 0.009s |net 0.019s |dec 0.001s |post 0.001s |merge 0.000s |\n",
      " 76/261 tot 0.037s |load 0.008s |pre 0.009s |net 0.019s |dec 0.001s |post 0.001s |merge 0.000s |\n",
      " 77/261 tot 0.037s |load 0.008s |pre 0.009s |net 0.019s |dec 0.001s |post 0.001s |merge 0.000s |\n",
      " 78/261 tot 0.038s |load 0.008s |pre 0.010s |net 0.019s |dec 0.001s |post 0.001s |merge 0.000s |\n",
      " 79/261 tot 0.038s |load 0.008s |pre 0.009s |net 0.019s |dec 0.001s |post 0.001s |merge 0.000s |\n",
      " 80/261 tot 0.039s |load 0.009s |pre 0.009s |net 0.019s |dec 0.001s |post 0.001s |merge 0.000s |\n",
      " 81/261 tot 0.038s |load 0.008s |pre 0.010s |net 0.019s |dec 0.001s |post 0.001s |merge 0.000s |\n",
      " 82/261 tot 0.038s |load 0.008s |pre 0.009s |net 0.019s |dec 0.001s |post 0.001s |merge 0.000s |\n",
      " 83/261 tot 0.044s |load 0.008s |pre 0.015s |net 0.019s |dec 0.001s |post 0.001s |merge 0.000s |\n",
      " 84/261 tot 0.038s |load 0.008s |pre 0.010s |net 0.019s |dec 0.001s |post 0.001s |merge 0.000s |\n",
      " 85/261 tot 0.038s |load 0.008s |pre 0.009s |net 0.019s |dec 0.001s |post 0.001s |merge 0.000s |\n",
      " 86/261 tot 0.038s |load 0.007s |pre 0.010s |net 0.019s |dec 0.001s |post 0.001s |merge 0.000s |\n",
      " 87/261 tot 0.034s |load 0.005s |pre 0.009s |net 0.019s |dec 0.001s |post 0.001s |merge 0.000s |\n",
      " 88/261 tot 0.037s |load 0.008s |pre 0.009s |net 0.019s |dec 0.001s |post 0.001s |merge 0.000s |\n",
      " 89/261 tot 0.038s |load 0.008s |pre 0.010s |net 0.019s |dec 0.001s |post 0.001s |merge 0.000s |\n",
      " 90/261 tot 0.038s |load 0.008s |pre 0.010s |net 0.019s |dec 0.001s |post 0.001s |merge 0.000s |\n",
      " 91/261 tot 0.039s |load 0.009s |pre 0.010s |net 0.019s |dec 0.001s |post 0.001s |merge 0.000s |\n",
      " 92/261 tot 0.040s |load 0.009s |pre 0.010s |net 0.019s |dec 0.001s |post 0.001s |merge 0.000s |\n",
      " 93/261 tot 0.038s |load 0.009s |pre 0.010s |net 0.019s |dec 0.001s |post 0.001s |merge 0.000s |\n",
      " 94/261 tot 0.038s |load 0.009s |pre 0.010s |net 0.019s |dec 0.001s |post 0.001s |merge 0.000s |\n",
      " 95/261 tot 0.038s |load 0.008s |pre 0.010s |net 0.019s |dec 0.001s |post 0.001s |merge 0.000s |\n",
      " 96/261 tot 0.042s |load 0.012s |pre 0.009s |net 0.019s |dec 0.001s |post 0.001s |merge 0.000s |\n",
      " 97/261 tot 0.038s |load 0.008s |pre 0.009s |net 0.019s |dec 0.001s |post 0.001s |merge 0.000s |\n",
      " 98/261 tot 0.039s |load 0.009s |pre 0.010s |net 0.019s |dec 0.001s |post 0.001s |merge 0.000s |\n",
      " 99/261 tot 0.039s |load 0.009s |pre 0.010s |net 0.019s |dec 0.001s |post 0.001s |merge 0.000s |\n",
      " 100/261 tot 0.039s |load 0.008s |pre 0.011s |net 0.019s |dec 0.001s |post 0.001s |merge 0.000s |\n",
      " 101/261 tot 0.035s |load 0.005s |pre 0.009s |net 0.019s |dec 0.001s |post 0.001s |merge 0.000s |\n",
      " 102/261 tot 0.035s |load 0.005s |pre 0.009s |net 0.019s |dec 0.001s |post 0.001s |merge 0.000s |\n",
      " 103/261 tot 0.038s |load 0.007s |pre 0.009s |net 0.019s |dec 0.001s |post 0.001s |merge 0.000s |\n",
      " 104/261 tot 0.042s |load 0.012s |pre 0.010s |net 0.019s |dec 0.001s |post 0.001s |merge 0.000s |\n",
      " 105/261 tot 0.038s |load 0.008s |pre 0.009s |net 0.019s |dec 0.001s |post 0.001s |merge 0.000s |\n",
      " 106/261 tot 0.041s |load 0.008s |pre 0.013s |net 0.019s |dec 0.001s |post 0.001s |merge 0.000s |\n",
      " 107/261 tot 0.038s |load 0.008s |pre 0.010s |net 0.019s |dec 0.001s |post 0.001s |merge 0.000s |\n",
      " 108/261 tot 0.039s |load 0.008s |pre 0.010s |net 0.019s |dec 0.001s |post 0.001s |merge 0.000s |\n",
      " 109/261 tot 0.039s |load 0.009s |pre 0.010s |net 0.019s |dec 0.001s |post 0.001s |merge 0.000s |\n",
      " 110/261 tot 0.041s |load 0.008s |pre 0.010s |net 0.022s |dec 0.001s |post 0.001s |merge 0.000s |\n",
      " 111/261 tot 0.047s |load 0.013s |pre 0.013s |net 0.019s |dec 0.001s |post 0.001s |merge 0.000s |\n",
      " 112/261 tot 0.038s |load 0.008s |pre 0.009s |net 0.019s |dec 0.001s |post 0.001s |merge 0.000s |\n",
      " 113/261 tot 0.037s |load 0.008s |pre 0.009s |net 0.019s |dec 0.001s |post 0.001s |merge 0.000s |\n",
      " 114/261 tot 0.039s |load 0.010s |pre 0.009s |net 0.019s |dec 0.001s |post 0.001s |merge 0.000s |\n",
      " 115/261 tot 0.038s |load 0.008s |pre 0.010s |net 0.019s |dec 0.001s |post 0.001s |merge 0.000s |\n",
      " 116/261 tot 0.035s |load 0.005s |pre 0.010s |net 0.019s |dec 0.001s |post 0.001s |merge 0.000s |\n",
      " 117/261 tot 0.037s |load 0.008s |pre 0.009s |net 0.019s |dec 0.001s |post 0.001s |merge 0.000s |\n",
      " 118/261 tot 0.038s |load 0.008s |pre 0.009s |net 0.019s |dec 0.001s |post 0.001s |merge 0.000s |\n",
      " 119/261 tot 0.040s |load 0.010s |pre 0.010s |net 0.019s |dec 0.001s |post 0.001s |merge 0.000s |\n",
      " 120/261 tot 0.039s |load 0.009s |pre 0.010s |net 0.019s |dec 0.001s |post 0.001s |merge 0.000s |\n",
      " 121/261 tot 0.038s |load 0.009s |pre 0.009s |net 0.019s |dec 0.001s |post 0.001s |merge 0.000s |\n",
      " 122/261 tot 0.038s |load 0.009s |pre 0.009s |net 0.019s |dec 0.001s |post 0.001s |merge 0.000s |\n",
      " 123/261 tot 0.038s |load 0.008s |pre 0.009s |net 0.019s |dec 0.001s |post 0.001s |merge 0.000s |\n",
      " 124/261 tot 0.041s |load 0.011s |pre 0.010s |net 0.019s |dec 0.001s |post 0.001s |merge 0.000s |\n",
      " 125/261 tot 0.039s |load 0.009s |pre 0.010s |net 0.019s |dec 0.001s |post 0.001s |merge 0.000s |\n",
      " 126/261 tot 0.037s |load 0.008s |pre 0.010s |net 0.019s |dec 0.001s |post 0.001s |merge 0.000s |\n",
      " 127/261 tot 0.038s |load 0.009s |pre 0.009s |net 0.019s |dec 0.001s |post 0.001s |merge 0.000s |\n",
      " 128/261 tot 0.038s |load 0.009s |pre 0.009s |net 0.019s |dec 0.001s |post 0.001s |merge 0.000s |\n",
      " 129/261 tot 0.036s |load 0.006s |pre 0.009s |net 0.019s |dec 0.001s |post 0.001s |merge 0.000s |\n",
      " 130/261 tot 0.034s |load 0.005s |pre 0.009s |net 0.019s |dec 0.001s |post 0.001s |merge 0.000s |\n",
      " 131/261 tot 0.036s |load 0.005s |pre 0.010s |net 0.019s |dec 0.001s |post 0.001s |merge 0.000s |\n",
      " 132/261 tot 0.040s |load 0.010s |pre 0.010s |net 0.019s |dec 0.001s |post 0.001s |merge 0.000s |\n",
      " 133/261 tot 0.039s |load 0.009s |pre 0.010s |net 0.019s |dec 0.001s |post 0.001s |merge 0.000s |\n",
      " 134/261 tot 0.038s |load 0.008s |pre 0.010s |net 0.019s |dec 0.001s |post 0.001s |merge 0.000s |\n",
      " 135/261 tot 0.038s |load 0.009s |pre 0.009s |net 0.019s |dec 0.001s |post 0.001s |merge 0.000s |\n",
      " 136/261 tot 0.037s |load 0.008s |pre 0.009s |net 0.019s |dec 0.001s |post 0.001s |merge 0.000s |\n",
      " 137/261 tot 0.057s |load 0.022s |pre 0.014s |net 0.019s |dec 0.001s |post 0.001s |merge 0.000s |\n",
      " 138/261 tot 0.039s |load 0.008s |pre 0.010s |net 0.019s |dec 0.001s |post 0.001s |merge 0.000s |\n",
      " 139/261 tot 0.039s |load 0.009s |pre 0.010s |net 0.019s |dec 0.001s |post 0.001s |merge 0.000s |\n",
      " 140/261 tot 0.038s |load 0.008s |pre 0.009s |net 0.019s |dec 0.001s |post 0.001s |merge 0.000s |\n",
      " 141/261 tot 0.038s |load 0.008s |pre 0.009s |net 0.019s |dec 0.001s |post 0.001s |merge 0.000s |\n",
      " 142/261 tot 0.037s |load 0.008s |pre 0.009s |net 0.019s |dec 0.001s |post 0.001s |merge 0.000s |\n",
      " 143/261 tot 0.037s |load 0.008s |pre 0.009s |net 0.019s |dec 0.001s |post 0.001s |merge 0.000s |\n",
      " 144/261 tot 0.044s |load 0.015s |pre 0.009s |net 0.019s |dec 0.001s |post 0.001s |merge 0.000s |\n",
      " 145/261 tot 0.035s |load 0.005s |pre 0.010s |net 0.019s |dec 0.001s |post 0.001s |merge 0.000s |\n",
      " 146/261 tot 0.037s |load 0.008s |pre 0.009s |net 0.019s |dec 0.001s |post 0.001s |merge 0.000s |\n",
      " 147/261 tot 0.038s |load 0.008s |pre 0.009s |net 0.019s |dec 0.001s |post 0.001s |merge 0.000s |\n",
      " 148/261 tot 0.039s |load 0.008s |pre 0.010s |net 0.019s |dec 0.001s |post 0.001s |merge 0.000s |\n",
      " 149/261 tot 0.042s |load 0.012s |pre 0.010s |net 0.019s |dec 0.001s |post 0.001s |merge 0.000s |\n",
      " 150/261 tot 0.038s |load 0.008s |pre 0.010s |net 0.019s |dec 0.001s |post 0.001s |merge 0.000s |\n",
      " 151/261 tot 0.038s |load 0.008s |pre 0.009s |net 0.019s |dec 0.001s |post 0.001s |merge 0.000s |\n",
      " 152/261 tot 0.038s |load 0.008s |pre 0.010s |net 0.019s |dec 0.001s |post 0.001s |merge 0.000s |\n",
      " 153/261 tot 0.038s |load 0.008s |pre 0.010s |net 0.019s |dec 0.001s |post 0.001s |merge 0.000s |\n",
      " 154/261 tot 0.038s |load 0.009s |pre 0.009s |net 0.019s |dec 0.001s |post 0.001s |merge 0.000s |\n",
      " 155/261 tot 0.038s |load 0.008s |pre 0.010s |net 0.019s |dec 0.001s |post 0.001s |merge 0.000s |\n",
      " 156/261 tot 0.042s |load 0.011s |pre 0.010s |net 0.019s |dec 0.001s |post 0.001s |merge 0.000s |\n",
      " 157/261 tot 0.041s |load 0.011s |pre 0.010s |net 0.019s |dec 0.001s |post 0.001s |merge 0.000s |\n",
      " 158/261 tot 0.036s |load 0.007s |pre 0.009s |net 0.019s |dec 0.001s |post 0.001s |merge 0.000s |\n",
      " 159/261 tot 0.036s |load 0.005s |pre 0.010s |net 0.019s |dec 0.001s |post 0.001s |merge 0.000s |\n",
      " 160/261 tot 0.035s |load 0.005s |pre 0.009s |net 0.019s |dec 0.001s |post 0.001s |merge 0.000s |\n",
      " 161/261 tot 0.036s |load 0.007s |pre 0.009s |net 0.019s |dec 0.001s |post 0.001s |merge 0.000s |\n",
      " 162/261 tot 0.037s |load 0.007s |pre 0.009s |net 0.019s |dec 0.001s |post 0.001s |merge 0.000s |\n",
      " 163/261 tot 0.037s |load 0.008s |pre 0.009s |net 0.019s |dec 0.001s |post 0.001s |merge 0.000s |\n",
      " 164/261 tot 0.037s |load 0.008s |pre 0.009s |net 0.019s |dec 0.001s |post 0.001s |merge 0.000s |\n",
      " 165/261 tot 0.038s |load 0.008s |pre 0.010s |net 0.019s |dec 0.001s |post 0.001s |merge 0.000s |\n",
      " 166/261 tot 0.038s |load 0.008s |pre 0.009s |net 0.019s |dec 0.001s |post 0.001s |merge 0.000s |\n",
      " 167/261 tot 0.040s |load 0.010s |pre 0.010s |net 0.019s |dec 0.001s |post 0.001s |merge 0.000s |\n",
      " 168/261 tot 0.037s |load 0.008s |pre 0.009s |net 0.019s |dec 0.001s |post 0.001s |merge 0.000s |\n",
      " 169/261 tot 0.037s |load 0.008s |pre 0.009s |net 0.019s |dec 0.001s |post 0.001s |merge 0.000s |\n",
      " 170/261 tot 0.038s |load 0.008s |pre 0.010s |net 0.019s |dec 0.001s |post 0.001s |merge 0.000s |\n",
      " 171/261 tot 0.038s |load 0.008s |pre 0.010s |net 0.019s |dec 0.001s |post 0.001s |merge 0.000s |\n",
      " 172/261 tot 0.037s |load 0.008s |pre 0.010s |net 0.019s |dec 0.001s |post 0.001s |merge 0.000s |\n",
      " 173/261 tot 0.037s |load 0.007s |pre 0.010s |net 0.019s |dec 0.001s |post 0.001s |merge 0.000s |\n",
      " 174/261 tot 0.035s |load 0.006s |pre 0.009s |net 0.019s |dec 0.001s |post 0.001s |merge 0.000s |\n",
      " 175/261 tot 0.038s |load 0.008s |pre 0.010s |net 0.019s |dec 0.001s |post 0.001s |merge 0.000s |\n",
      " 176/261 tot 0.038s |load 0.008s |pre 0.009s |net 0.019s |dec 0.001s |post 0.001s |merge 0.000s |\n",
      " 177/261 tot 0.038s |load 0.008s |pre 0.009s |net 0.019s |dec 0.001s |post 0.001s |merge 0.000s |\n",
      " 178/261 tot 0.038s |load 0.009s |pre 0.010s |net 0.019s |dec 0.001s |post 0.001s |merge 0.000s |\n",
      " 179/261 tot 0.038s |load 0.008s |pre 0.009s |net 0.019s |dec 0.001s |post 0.001s |merge 0.000s |\n",
      " 180/261 tot 0.038s |load 0.008s |pre 0.010s |net 0.019s |dec 0.001s |post 0.001s |merge 0.000s |\n",
      " 181/261 tot 0.037s |load 0.008s |pre 0.009s |net 0.019s |dec 0.001s |post 0.001s |merge 0.000s |\n",
      " 182/261 tot 0.037s |load 0.008s |pre 0.009s |net 0.019s |dec 0.001s |post 0.001s |merge 0.000s |\n",
      " 183/261 tot 0.049s |load 0.011s |pre 0.017s |net 0.019s |dec 0.001s |post 0.001s |merge 0.000s |\n",
      " 184/261 tot 0.042s |load 0.012s |pre 0.010s |net 0.019s |dec 0.001s |post 0.001s |merge 0.000s |\n",
      " 185/261 tot 0.043s |load 0.013s |pre 0.010s |net 0.019s |dec 0.001s |post 0.001s |merge 0.000s |\n",
      " 186/261 tot 0.038s |load 0.008s |pre 0.009s |net 0.019s |dec 0.001s |post 0.001s |merge 0.000s |\n",
      " 187/261 tot 0.038s |load 0.006s |pre 0.012s |net 0.019s |dec 0.001s |post 0.001s |merge 0.000s |\n",
      " 188/261 tot 0.034s |load 0.004s |pre 0.009s |net 0.019s |dec 0.001s |post 0.001s |merge 0.000s |\n",
      " 189/261 tot 0.034s |load 0.005s |pre 0.009s |net 0.019s |dec 0.001s |post 0.001s |merge 0.000s |\n",
      " 190/261 tot 0.038s |load 0.007s |pre 0.011s |net 0.019s |dec 0.001s |post 0.001s |merge 0.000s |\n",
      " 191/261 tot 0.036s |load 0.007s |pre 0.009s |net 0.019s |dec 0.001s |post 0.001s |merge 0.000s |\n",
      " 192/261 tot 0.036s |load 0.006s |pre 0.009s |net 0.019s |dec 0.001s |post 0.001s |merge 0.000s |\n",
      " 193/261 tot 0.038s |load 0.008s |pre 0.010s |net 0.019s |dec 0.001s |post 0.001s |merge 0.000s |\n",
      " 194/261 tot 0.036s |load 0.007s |pre 0.009s |net 0.019s |dec 0.001s |post 0.001s |merge 0.000s |\n",
      " 195/261 tot 0.035s |load 0.006s |pre 0.009s |net 0.019s |dec 0.001s |post 0.001s |merge 0.000s |\n",
      " 196/261 tot 0.036s |load 0.006s |pre 0.009s |net 0.019s |dec 0.001s |post 0.001s |merge 0.000s |\n",
      " 197/261 tot 0.037s |load 0.007s |pre 0.010s |net 0.019s |dec 0.001s |post 0.001s |merge 0.000s |\n",
      " 198/261 tot 0.042s |load 0.007s |pre 0.015s |net 0.019s |dec 0.001s |post 0.001s |merge 0.000s |\n",
      " 199/261 tot 0.036s |load 0.007s |pre 0.009s |net 0.019s |dec 0.001s |post 0.001s |merge 0.000s |\n",
      " 200/261 tot 0.036s |load 0.006s |pre 0.009s |net 0.019s |dec 0.001s |post 0.001s |merge 0.000s |\n",
      " 201/261 tot 0.038s |load 0.008s |pre 0.010s |net 0.019s |dec 0.001s |post 0.001s |merge 0.000s |\n",
      " 202/261 tot 0.036s |load 0.006s |pre 0.009s |net 0.019s |dec 0.001s |post 0.001s |merge 0.000s |\n",
      " 203/261 tot 0.035s |load 0.005s |pre 0.009s |net 0.019s |dec 0.001s |post 0.001s |merge 0.000s |\n",
      " 204/261 tot 0.036s |load 0.006s |pre 0.009s |net 0.019s |dec 0.001s |post 0.001s |merge 0.000s |\n",
      " 205/261 tot 0.036s |load 0.006s |pre 0.010s |net 0.019s |dec 0.001s |post 0.001s |merge 0.000s |\n",
      " 206/261 tot 0.038s |load 0.007s |pre 0.011s |net 0.019s |dec 0.001s |post 0.001s |merge 0.000s |\n",
      " 207/261 tot 0.036s |load 0.007s |pre 0.010s |net 0.019s |dec 0.001s |post 0.001s |merge 0.000s |\n",
      " 208/261 tot 0.036s |load 0.006s |pre 0.009s |net 0.019s |dec 0.001s |post 0.001s |merge 0.000s |\n",
      " 209/261 tot 0.036s |load 0.006s |pre 0.009s |net 0.019s |dec 0.001s |post 0.001s |merge 0.000s |\n",
      " 210/261 tot 0.039s |load 0.010s |pre 0.009s |net 0.019s |dec 0.001s |post 0.001s |merge 0.000s |\n",
      " 211/261 tot 0.036s |load 0.006s |pre 0.009s |net 0.019s |dec 0.001s |post 0.001s |merge 0.000s |\n",
      " 212/261 tot 0.036s |load 0.007s |pre 0.009s |net 0.019s |dec 0.001s |post 0.001s |merge 0.000s |\n",
      " 213/261 tot 0.036s |load 0.006s |pre 0.010s |net 0.019s |dec 0.001s |post 0.001s |merge 0.000s |\n",
      " 214/261 tot 0.038s |load 0.006s |pre 0.011s |net 0.019s |dec 0.001s |post 0.001s |merge 0.000s |\n",
      " 215/261 tot 0.036s |load 0.006s |pre 0.010s |net 0.019s |dec 0.001s |post 0.001s |merge 0.000s |\n",
      " 216/261 tot 0.035s |load 0.005s |pre 0.009s |net 0.019s |dec 0.001s |post 0.001s |merge 0.000s |\n",
      " 217/261 tot 0.034s |load 0.004s |pre 0.009s |net 0.019s |dec 0.001s |post 0.001s |merge 0.000s |\n",
      " 218/261 tot 0.034s |load 0.005s |pre 0.009s |net 0.019s |dec 0.001s |post 0.001s |merge 0.000s |\n",
      " 219/261 tot 0.035s |load 0.005s |pre 0.010s |net 0.019s |dec 0.001s |post 0.001s |merge 0.000s |\n",
      " 220/261 tot 0.035s |load 0.005s |pre 0.009s |net 0.019s |dec 0.001s |post 0.001s |merge 0.000s |\n",
      " 221/261 tot 0.034s |load 0.005s |pre 0.009s |net 0.019s |dec 0.001s |post 0.001s |merge 0.000s |\n",
      " 222/261 tot 0.035s |load 0.005s |pre 0.009s |net 0.019s |dec 0.001s |post 0.001s |merge 0.000s |\n",
      " 223/261 tot 0.035s |load 0.005s |pre 0.010s |net 0.019s |dec 0.001s |post 0.001s |merge 0.000s |\n",
      " 224/261 tot 0.035s |load 0.005s |pre 0.010s |net 0.019s |dec 0.001s |post 0.001s |merge 0.000s |\n",
      " 225/261 tot 0.034s |load 0.005s |pre 0.009s |net 0.019s |dec 0.001s |post 0.001s |merge 0.000s |\n",
      " 226/261 tot 0.035s |load 0.005s |pre 0.009s |net 0.019s |dec 0.001s |post 0.001s |merge 0.000s |\n",
      " 227/261 tot 0.036s |load 0.006s |pre 0.010s |net 0.019s |dec 0.001s |post 0.001s |merge 0.000s |\n",
      " 228/261 tot 0.036s |load 0.005s |pre 0.010s |net 0.019s |dec 0.001s |post 0.001s |merge 0.000s |\n",
      " 229/261 tot 0.036s |load 0.006s |pre 0.009s |net 0.019s |dec 0.001s |post 0.001s |merge 0.000s |\n",
      " 230/261 tot 0.035s |load 0.005s |pre 0.010s |net 0.019s |dec 0.001s |post 0.001s |merge 0.000s |\n",
      " 231/261 tot 0.041s |load 0.010s |pre 0.010s |net 0.019s |dec 0.001s |post 0.001s |merge 0.000s |\n",
      " 232/261 tot 0.034s |load 0.005s |pre 0.009s |net 0.019s |dec 0.001s |post 0.001s |merge 0.000s |\n",
      " 233/261 tot 0.035s |load 0.005s |pre 0.010s |net 0.019s |dec 0.001s |post 0.001s |merge 0.000s |\n",
      " 234/261 tot 0.039s |load 0.005s |pre 0.013s |net 0.019s |dec 0.001s |post 0.001s |merge 0.000s |\n",
      " 235/261 tot 0.036s |load 0.006s |pre 0.010s |net 0.019s |dec 0.001s |post 0.001s |merge 0.000s |\n",
      " 236/261 tot 0.036s |load 0.005s |pre 0.011s |net 0.019s |dec 0.001s |post 0.001s |merge 0.000s |\n",
      " 237/261 tot 0.035s |load 0.005s |pre 0.010s |net 0.019s |dec 0.001s |post 0.001s |merge 0.000s |\n",
      " 238/261 tot 0.035s |load 0.005s |pre 0.010s |net 0.019s |dec 0.001s |post 0.001s |merge 0.000s |\n",
      " 239/261 tot 0.036s |load 0.006s |pre 0.009s |net 0.019s |dec 0.001s |post 0.001s |merge 0.000s |\n",
      " 240/261 tot 0.034s |load 0.005s |pre 0.009s |net 0.019s |dec 0.001s |post 0.001s |merge 0.000s |\n",
      " 241/261 tot 0.034s |load 0.005s |pre 0.009s |net 0.019s |dec 0.001s |post 0.001s |merge 0.000s |\n",
      " 242/261 tot 0.034s |load 0.005s |pre 0.009s |net 0.019s |dec 0.001s |post 0.001s |merge 0.000s |\n",
      " 243/261 tot 0.039s |load 0.005s |pre 0.014s |net 0.019s |dec 0.001s |post 0.001s |merge 0.000s |\n",
      " 244/261 tot 0.034s |load 0.005s |pre 0.009s |net 0.019s |dec 0.001s |post 0.001s |merge 0.000s |\n",
      " 245/261 tot 0.035s |load 0.005s |pre 0.010s |net 0.019s |dec 0.001s |post 0.001s |merge 0.000s |\n",
      " 246/261 tot 0.034s |load 0.004s |pre 0.009s |net 0.019s |dec 0.001s |post 0.001s |merge 0.000s |\n",
      " 247/261 tot 0.034s |load 0.005s |pre 0.009s |net 0.019s |dec 0.001s |post 0.001s |merge 0.000s |\n",
      " 248/261 tot 0.034s |load 0.004s |pre 0.009s |net 0.019s |dec 0.001s |post 0.001s |merge 0.000s |\n",
      " 249/261 tot 0.033s |load 0.004s |pre 0.009s |net 0.019s |dec 0.001s |post 0.001s |merge 0.000s |\n",
      " 250/261 tot 0.033s |load 0.004s |pre 0.009s |net 0.019s |dec 0.001s |post 0.001s |merge 0.000s |\n",
      " 251/261 tot 0.034s |load 0.004s |pre 0.009s |net 0.019s |dec 0.001s |post 0.001s |merge 0.000s |\n",
      " 252/261 tot 0.034s |load 0.004s |pre 0.010s |net 0.019s |dec 0.001s |post 0.001s |merge 0.000s |\n",
      " 253/261 tot 0.034s |load 0.004s |pre 0.010s |net 0.019s |dec 0.001s |post 0.001s |merge 0.000s |\n",
      " 254/261 tot 0.033s |load 0.004s |pre 0.009s |net 0.019s |dec 0.001s |post 0.001s |merge 0.000s |\n",
      " 255/261 tot 0.034s |load 0.005s |pre 0.009s |net 0.019s |dec 0.001s |post 0.001s |merge 0.000s |\n",
      " 256/261 tot 0.035s |load 0.005s |pre 0.010s |net 0.019s |dec 0.001s |post 0.001s |merge 0.000s |\n",
      " 257/261 tot 0.034s |load 0.004s |pre 0.009s |net 0.019s |dec 0.001s |post 0.001s |merge 0.000s |\n",
      " 258/261 tot 0.034s |load 0.004s |pre 0.009s |net 0.019s |dec 0.001s |post 0.001s |merge 0.000s |\n",
      " 259/261 tot 0.037s |load 0.007s |pre 0.009s |net 0.019s |dec 0.001s |post 0.001s |merge 0.000s |\n",
      " 260/261 tot 0.034s |load 0.005s |pre 0.009s |net 0.019s |dec 0.001s |post 0.001s |merge 0.000s |\n",
      " 261/261 tot 0.034s |load 0.005s |pre 0.010s |net 0.019s |dec 0.001s |post 0.001s |merge 0.000s |\n",
      "run_detection_for_scn.py:339: DeprecationWarning: `np.int` is a deprecated alias for the builtin `int`. To silence this warning, use `int` by itself. Doing this will not modify any behavior and is safe. When replacing `np.int`, you may wish to use e.g. `np.int64` or `np.int32` to specify the precision. If you wish to review your current use, check the release note link for additional information.\n",
      "Deprecated in NumPy 1.20; for more details and guidance: https://numpy.org/devdocs/release/1.20.0-notes.html#deprecations\n",
      "  start_x = np.int(simg.properties['openslide.bounds-x'])\n",
      "run_detection_for_scn.py:340: DeprecationWarning: `np.int` is a deprecated alias for the builtin `int`. To silence this warning, use `int` by itself. Doing this will not modify any behavior and is safe. When replacing `np.int`, you may wish to use e.g. `np.int64` or `np.int32` to specify the precision. If you wish to review your current use, check the release note link for additional information.\n",
      "Deprecated in NumPy 1.20; for more details and guidance: https://numpy.org/devdocs/release/1.20.0-notes.html#deprecations\n",
      "  start_y = np.int(simg.properties['openslide.bounds-y'])\n",
      "run_detection_for_scn.py:341: DeprecationWarning: `np.int` is a deprecated alias for the builtin `int`. To silence this warning, use `int` by itself. Doing this will not modify any behavior and is safe. When replacing `np.int`, you may wish to use e.g. `np.int64` or `np.int32` to specify the precision. If you wish to review your current use, check the release note link for additional information.\n",
      "Deprecated in NumPy 1.20; for more details and guidance: https://numpy.org/devdocs/release/1.20.0-notes.html#deprecations\n",
      "  width_x = np.int(simg.properties['openslide.bounds-width'])\n",
      "run_detection_for_scn.py:342: DeprecationWarning: `np.int` is a deprecated alias for the builtin `int`. To silence this warning, use `int` by itself. Doing this will not modify any behavior and is safe. When replacing `np.int`, you may wish to use e.g. `np.int64` or `np.int32` to specify the precision. If you wish to review your current use, check the release note link for additional information.\n",
      "Deprecated in NumPy 1.20; for more details and guidance: https://numpy.org/devdocs/release/1.20.0-notes.html#deprecations\n",
      "  height_y = np.int(simg.properties['openslide.bounds-height'])\n"
     ]
    }
   ],
   "source": [
    "!python run_detection_for_scn.py circledet --arch dla_34 --demo \"/content/drive/My Drive/CircleNet/example_case/Case 03-1.scn\" --load_model /content/drive/My\\ Drive/CircleNet/trained_model/model_10.pth --filter_boarder --demo_dir \"/content/drive/My Drive/CircleNet/demo_dir/test_demo\"\n"
   ]
  }
 ],
 "metadata": {
  "accelerator": "GPU",
  "colab": {
   "authorship_tag": "ABX9TyPrs57kcCSFoIw6K3ZXksNN",
   "collapsed_sections": [],
   "name": "test_myself.ipynb",
   "provenance": []
  },
  "kernelspec": {
   "display_name": "Python 3 (ipykernel)",
   "language": "python",
   "name": "python3"
  },
  "language_info": {
   "codemirror_mode": {
    "name": "ipython",
    "version": 3
   },
   "file_extension": ".py",
   "mimetype": "text/x-python",
   "name": "python",
   "nbconvert_exporter": "python",
   "pygments_lexer": "ipython3",
   "version": "3.9.7"
  }
 },
 "nbformat": 4,
 "nbformat_minor": 1
}
